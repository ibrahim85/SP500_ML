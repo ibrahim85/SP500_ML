{
 "cells": [
  {
   "cell_type": "markdown",
   "metadata": {},
   "source": [
    "# Chapter 2: machine learning for S&P500 prediction "
   ]
  },
  {
   "cell_type": "markdown",
   "metadata": {},
   "source": [
    "**by Li Shen, Ph.D.**\n",
    "\n",
    "**E-mail: shenli.sam@gmail.com**\n",
    "\n",
    "**LinkedIn: https://www.linkedin.com/in/lshen**\n",
    "\n",
    "**Updated: 2016/08/18**"
   ]
  },
  {
   "cell_type": "markdown",
   "metadata": {},
   "source": [
    "## Summary"
   ]
  },
  {
   "cell_type": "markdown",
   "metadata": {},
   "source": [
    "In this chapter, machine learning techniques are used to predict the log returns of the daily close prices of S&P500. The machine learning methods are used to either directly predict the log returns or combine with the ARMA predictions in a hybrid fashion from the previous chapter.\n",
    "\n",
    "NOTE: this is the 2nd part in a series of Python notebooks that exploit machine learning for financial time series. The 1st part can be viewed here:\n",
    "\n",
    "**Chapter 1: data analysis of S&P500 daily close prices** -  http://nbviewer.jupyter.org/github/lishen/SP500_ML/blob/master/SP500%20pred%20with%20ML%20-%20Chapter%201.ipynb"
   ]
  },
  {
   "cell_type": "markdown",
   "metadata": {},
   "source": [
    "## Load data and libraries"
   ]
  },
  {
   "cell_type": "code",
   "execution_count": 2,
   "metadata": {
    "collapsed": false
   },
   "outputs": [
    {
     "name": "stdout",
     "output_type": "stream",
     "text": [
      "Populating the interactive namespace from numpy and matplotlib\n"
     ]
    }
   ],
   "source": [
    "import warnings\n",
    "warnings.filterwarnings('ignore')\n",
    "%pylab inline\n",
    "import numpy as np\n",
    "import pandas as pd"
   ]
  },
  {
   "cell_type": "markdown",
   "metadata": {},
   "source": [
    "First, load the S&P500 daily log return data saved from the previous chapter, including the ARMA residuals. This dataset includes the daily closing prices of S&P500 **from 1996/06/17 to 2016/06/13 (20 years)**, of which the **time period of 1996/06/17-2011/06/17 (15 years) is used as train set and the time period of 2011/06/20-2016/06/13 (5 years)** is used as test set."
   ]
  },
  {
   "cell_type": "code",
   "execution_count": 2,
   "metadata": {
    "collapsed": true
   },
   "outputs": [],
   "source": [
    "ts_logrtX = pd.read_csv('saved_dat/ts_logrtX.csv', index_col=0)\n",
    "ts_logrtX.index = pd.to_datetime(ts_logrtX.index)\n",
    "arma_all_resid = np.load('saved_dat/arma_all_resid.npy')\n",
    "split_date = '2011-06-18'\n",
    "lrt_train = ts_logrtX.ix[:split_date, ['sp500_logrt']]\n",
    "lrt_test = ts_logrtX.ix[split_date:, ['sp500_logrt']]"
   ]
  },
  {
   "cell_type": "code",
   "execution_count": 3,
   "metadata": {
    "collapsed": false
   },
   "outputs": [
    {
     "name": "stdout",
     "output_type": "stream",
     "text": [
      "Dataset size: (5032, 3)\n"
     ]
    },
    {
     "data": {
      "text/html": [
       "<div>\n",
       "<table border=\"1\" class=\"dataframe\">\n",
       "  <thead>\n",
       "    <tr style=\"text-align: right;\">\n",
       "      <th></th>\n",
       "      <th>sp500_logrt</th>\n",
       "      <th>hl_logra</th>\n",
       "      <th>sqr_vol</th>\n",
       "    </tr>\n",
       "    <tr>\n",
       "      <th>Date</th>\n",
       "      <th></th>\n",
       "      <th></th>\n",
       "      <th></th>\n",
       "    </tr>\n",
       "  </thead>\n",
       "  <tbody>\n",
       "    <tr>\n",
       "      <th>1996-06-17</th>\n",
       "      <td>-0.001037</td>\n",
       "      <td>1.430310</td>\n",
       "      <td>0.546269</td>\n",
       "    </tr>\n",
       "    <tr>\n",
       "      <th>1996-06-18</th>\n",
       "      <td>-0.004671</td>\n",
       "      <td>1.613422</td>\n",
       "      <td>0.610975</td>\n",
       "    </tr>\n",
       "    <tr>\n",
       "      <th>1996-06-19</th>\n",
       "      <td>-0.000151</td>\n",
       "      <td>1.483869</td>\n",
       "      <td>0.619363</td>\n",
       "    </tr>\n",
       "  </tbody>\n",
       "</table>\n",
       "</div>"
      ],
      "text/plain": [
       "            sp500_logrt  hl_logra   sqr_vol\n",
       "Date                                       \n",
       "1996-06-17    -0.001037  1.430310  0.546269\n",
       "1996-06-18    -0.004671  1.613422  0.610975\n",
       "1996-06-19    -0.000151  1.483869  0.619363"
      ]
     },
     "execution_count": 3,
     "metadata": {},
     "output_type": "execute_result"
    }
   ],
   "source": [
    "print 'Dataset size:', ts_logrtX.shape\n",
    "ts_logrtX.head(n=3)"
   ]
  },
  {
   "cell_type": "markdown",
   "metadata": {},
   "source": [
    "The dataset includes S&P500 daily log returns as well as the log-transformed high-low ranges and square-root-transformed volumes. The latters are used as exogenous data."
   ]
  },
  {
   "cell_type": "markdown",
   "metadata": {},
   "source": [
    "## 2.1 Lagged data and feature selection"
   ]
  },
  {
   "cell_type": "markdown",
   "metadata": {},
   "source": [
    "### 2.1.1 Lagged log return data"
   ]
  },
  {
   "cell_type": "markdown",
   "metadata": {},
   "source": [
    "Most machine learning algorithms expect tabular data as inputs. Therefore, we need to convert time series data into such format. The following is a utility function that converts single-column time series into lagged predictors."
   ]
  },
  {
   "cell_type": "code",
   "execution_count": 4,
   "metadata": {
    "collapsed": true
   },
   "outputs": [],
   "source": [
    "def ts_to_lagged_df(ts, col_id, index=None, lag_size=5):\n",
    "    '''Convert a time series to lagged dataframe\n",
    "    Args:\n",
    "        ts (DataFrame): a dataframe, series or array containing the \n",
    "                        time series. If it is a dataframe or array, \n",
    "                        the 2nd dimension must have a size of 1.\n",
    "        col_id (str): if the col id is N, all columns will be named \n",
    "                      as N1, N2, N3, ...\n",
    "        index ([DatetimeIndex]): if not provided, will use the index \n",
    "                                 from the input dataframe or series, \n",
    "                                 or integers if the input is array.\n",
    "        lag_size ([int]): the lag size to use\n",
    "    Returns: a dataframe containing the lagged values in columns.\n",
    "    '''\n",
    "    # Sanity check and extract data and index.\n",
    "    if isinstance(ts, pd.Series):\n",
    "        dat = ts.values.ravel()\n",
    "        if index is None:\n",
    "            df_idx = ts.index[lag_size:]\n",
    "    elif isinstance(ts, pd.DataFrame):\n",
    "        assert ts.shape[1] == 1\n",
    "        dat = ts.values.ravel()\n",
    "        if index is None:\n",
    "            df_idx = ts.index[lag_size:]\n",
    "    else:\n",
    "        assert isinstance(ts, np.ndarray)\n",
    "        assert ts.ndim <= 2\n",
    "        if ts.ndim == 2:\n",
    "            assert ts.shape[1] == 1\n",
    "        dat = ts.ravel()\n",
    "        if index is None:\n",
    "            df_idx = range(len(dat) - lag_size)\n",
    "    if index is not None:\n",
    "        assert len(index) == len(dat)\n",
    "        df_idx = index[lag_size:]\n",
    "    # Convert to lagged dataframe.\n",
    "    lagged_df = concatenate(\n",
    "        map(lambda x: dat[range(x - 1, x - 1 - lag_size, -1)], \n",
    "            range(lag_size, len(dat)))\n",
    "    ).reshape((-1, lag_size))\n",
    "    lagnames = map(lambda x: col_id + str(x), range(1, lag_size + 1))\n",
    "    lagged_df = pd.DataFrame(lagged_df, index=df_idx, columns=lagnames)\n",
    "    return lagged_df"
   ]
  },
  {
   "cell_type": "markdown",
   "metadata": {},
   "source": [
    "To apply machine learning, we must first decide what are the predictors and what are the targets. Here, the targets are the S&P500 daily closing prices. The predictors are the lagged S&P500 closing prices and the lagged high-low ranges and volumes. I'll use a **max lag size of 20** to construct the tabular data. This is an arbitrary choice and is mainly driven by computational cost. Later I'll treat the lag size as a hyperparameter and optimize it."
   ]
  },
  {
   "cell_type": "code",
   "execution_count": 5,
   "metadata": {
    "collapsed": false
   },
   "outputs": [
    {
     "name": "stdout",
     "output_type": "stream",
     "text": [
      "Dimensions of lagged log return data: (5012, 20)\n"
     ]
    },
    {
     "data": {
      "text/html": [
       "<div>\n",
       "<table border=\"1\" class=\"dataframe\">\n",
       "  <thead>\n",
       "    <tr style=\"text-align: right;\">\n",
       "      <th></th>\n",
       "      <th>L1</th>\n",
       "      <th>L2</th>\n",
       "      <th>L3</th>\n",
       "      <th>L4</th>\n",
       "      <th>L5</th>\n",
       "      <th>L6</th>\n",
       "      <th>L7</th>\n",
       "      <th>L8</th>\n",
       "      <th>L9</th>\n",
       "      <th>L10</th>\n",
       "      <th>L11</th>\n",
       "      <th>L12</th>\n",
       "      <th>L13</th>\n",
       "      <th>L14</th>\n",
       "      <th>L15</th>\n",
       "      <th>L16</th>\n",
       "      <th>L17</th>\n",
       "      <th>L18</th>\n",
       "      <th>L19</th>\n",
       "      <th>L20</th>\n",
       "    </tr>\n",
       "    <tr>\n",
       "      <th>Date</th>\n",
       "      <th></th>\n",
       "      <th></th>\n",
       "      <th></th>\n",
       "      <th></th>\n",
       "      <th></th>\n",
       "      <th></th>\n",
       "      <th></th>\n",
       "      <th></th>\n",
       "      <th></th>\n",
       "      <th></th>\n",
       "      <th></th>\n",
       "      <th></th>\n",
       "      <th></th>\n",
       "      <th></th>\n",
       "      <th></th>\n",
       "      <th></th>\n",
       "      <th></th>\n",
       "      <th></th>\n",
       "      <th></th>\n",
       "      <th></th>\n",
       "    </tr>\n",
       "  </thead>\n",
       "  <tbody>\n",
       "    <tr>\n",
       "      <th>1996-07-16</th>\n",
       "      <td>-0.025691</td>\n",
       "      <td>0.000805</td>\n",
       "      <td>-0.015964</td>\n",
       "      <td>0.001999</td>\n",
       "      <td>0.003381</td>\n",
       "      <td>-0.007481</td>\n",
       "      <td>-0.022500</td>\n",
       "      <td>-0.001798</td>\n",
       "      <td>-0.003364</td>\n",
       "      <td>0.007798</td>\n",
       "      <td>0.003106</td>\n",
       "      <td>0.006242</td>\n",
       "      <td>-0.006137</td>\n",
       "      <td>-0.000553</td>\n",
       "      <td>0.003010</td>\n",
       "      <td>0.007134</td>\n",
       "      <td>0.000211</td>\n",
       "      <td>-0.000151</td>\n",
       "      <td>-0.004671</td>\n",
       "      <td>-0.001037</td>\n",
       "    </tr>\n",
       "    <tr>\n",
       "      <th>1996-07-17</th>\n",
       "      <td>-0.002273</td>\n",
       "      <td>-0.025691</td>\n",
       "      <td>0.000805</td>\n",
       "      <td>-0.015964</td>\n",
       "      <td>0.001999</td>\n",
       "      <td>0.003381</td>\n",
       "      <td>-0.007481</td>\n",
       "      <td>-0.022500</td>\n",
       "      <td>-0.001798</td>\n",
       "      <td>-0.003364</td>\n",
       "      <td>0.007798</td>\n",
       "      <td>0.003106</td>\n",
       "      <td>0.006242</td>\n",
       "      <td>-0.006137</td>\n",
       "      <td>-0.000553</td>\n",
       "      <td>0.003010</td>\n",
       "      <td>0.007134</td>\n",
       "      <td>0.000211</td>\n",
       "      <td>-0.000151</td>\n",
       "      <td>-0.004671</td>\n",
       "    </tr>\n",
       "    <tr>\n",
       "      <th>1996-07-18</th>\n",
       "      <td>0.009030</td>\n",
       "      <td>-0.002273</td>\n",
       "      <td>-0.025691</td>\n",
       "      <td>0.000805</td>\n",
       "      <td>-0.015964</td>\n",
       "      <td>0.001999</td>\n",
       "      <td>0.003381</td>\n",
       "      <td>-0.007481</td>\n",
       "      <td>-0.022500</td>\n",
       "      <td>-0.001798</td>\n",
       "      <td>-0.003364</td>\n",
       "      <td>0.007798</td>\n",
       "      <td>0.003106</td>\n",
       "      <td>0.006242</td>\n",
       "      <td>-0.006137</td>\n",
       "      <td>-0.000553</td>\n",
       "      <td>0.003010</td>\n",
       "      <td>0.007134</td>\n",
       "      <td>0.000211</td>\n",
       "      <td>-0.000151</td>\n",
       "    </tr>\n",
       "  </tbody>\n",
       "</table>\n",
       "</div>"
      ],
      "text/plain": [
       "                  L1        L2        L3        L4        L5        L6  \\\n",
       "Date                                                                     \n",
       "1996-07-16 -0.025691  0.000805 -0.015964  0.001999  0.003381 -0.007481   \n",
       "1996-07-17 -0.002273 -0.025691  0.000805 -0.015964  0.001999  0.003381   \n",
       "1996-07-18  0.009030 -0.002273 -0.025691  0.000805 -0.015964  0.001999   \n",
       "\n",
       "                  L7        L8        L9       L10       L11       L12  \\\n",
       "Date                                                                     \n",
       "1996-07-16 -0.022500 -0.001798 -0.003364  0.007798  0.003106  0.006242   \n",
       "1996-07-17 -0.007481 -0.022500 -0.001798 -0.003364  0.007798  0.003106   \n",
       "1996-07-18  0.003381 -0.007481 -0.022500 -0.001798 -0.003364  0.007798   \n",
       "\n",
       "                 L13       L14       L15       L16       L17       L18  \\\n",
       "Date                                                                     \n",
       "1996-07-16 -0.006137 -0.000553  0.003010  0.007134  0.000211 -0.000151   \n",
       "1996-07-17  0.006242 -0.006137 -0.000553  0.003010  0.007134  0.000211   \n",
       "1996-07-18  0.003106  0.006242 -0.006137 -0.000553  0.003010  0.007134   \n",
       "\n",
       "                 L19       L20  \n",
       "Date                            \n",
       "1996-07-16 -0.004671 -0.001037  \n",
       "1996-07-17 -0.000151 -0.004671  \n",
       "1996-07-18  0.000211 -0.000151  "
      ]
     },
     "execution_count": 5,
     "metadata": {},
     "output_type": "execute_result"
    }
   ],
   "source": [
    "max_lag = 20\n",
    "lagged_lrt_df = ts_to_lagged_df(ts_logrtX[['sp500_logrt']], 'L', lag_size=max_lag)\n",
    "lagged_rng_df = ts_to_lagged_df(ts_logrtX[['hl_logra']], 'R', lag_size=max_lag)\n",
    "lagged_vol_df = ts_to_lagged_df(ts_logrtX[['sqr_vol']], 'V', lag_size=max_lag)\n",
    "print 'Dimensions of lagged log return data:', lagged_lrt_df.shape\n",
    "lagged_lrt_df.head(n=3)"
   ]
  },
  {
   "cell_type": "markdown",
   "metadata": {},
   "source": [
    "Split the above datasets into train and test sets."
   ]
  },
  {
   "cell_type": "code",
   "execution_count": 6,
   "metadata": {
    "collapsed": false
   },
   "outputs": [
    {
     "name": "stdout",
     "output_type": "stream",
     "text": [
      "Train set shape: (3758, 20)\n",
      "Test set shape: (1254, 20)\n"
     ]
    }
   ],
   "source": [
    "lagged_lrt_train = lagged_lrt_df[:split_date]\n",
    "lagged_lrt_test = lagged_lrt_df[split_date:]\n",
    "lagged_rng_train = lagged_rng_df[:split_date]\n",
    "lagged_rng_test = lagged_rng_df[split_date:]\n",
    "lagged_vol_train = lagged_vol_df[:split_date]\n",
    "lagged_vol_test = lagged_vol_df[split_date:]\n",
    "print 'Train set shape:', lagged_lrt_train.shape\n",
    "print 'Test set shape:', lagged_lrt_test.shape"
   ]
  },
  {
   "cell_type": "markdown",
   "metadata": {},
   "source": [
    "To improve optimization, scale the train set predictors to have zero mean and unit variance. Apply the same scaling to the test predictors as well.\n",
    "\n",
    "*Note: in the strict sense, scaling shall be done within a cross-validation procedure. I did this at the beginning of the model building simply for convenience.*"
   ]
  },
  {
   "cell_type": "code",
   "execution_count": 7,
   "metadata": {
    "collapsed": false
   },
   "outputs": [],
   "source": [
    "from sklearn import preprocessing\n",
    "llrt_scaler = preprocessing.StandardScaler().fit(lagged_lrt_train)\n",
    "llrt_train_scaled = llrt_scaler.transform(lagged_lrt_train)\n",
    "llrt_test_scaled = llrt_scaler.transform(lagged_lrt_test)\n",
    "##\n",
    "lrng_scaler = preprocessing.StandardScaler().fit(lagged_rng_train)\n",
    "lrng_train_scaled = lrng_scaler.transform(lagged_rng_train)\n",
    "lrng_test_scaled = lrng_scaler.transform(lagged_rng_test)\n",
    "##\n",
    "lvol_scaler = preprocessing.StandardScaler().fit(lagged_vol_train)\n",
    "lvol_train_scaled = lvol_scaler.transform(lagged_vol_train)\n",
    "lvol_test_scaled = lvol_scaler.transform(lagged_vol_test)"
   ]
  },
  {
   "cell_type": "markdown",
   "metadata": {},
   "source": [
    "Create S&P500 log return targets."
   ]
  },
  {
   "cell_type": "code",
   "execution_count": 8,
   "metadata": {
    "collapsed": false
   },
   "outputs": [],
   "source": [
    "llrt_train_y = lrt_train[max_lag:].values.ravel()\n",
    "llrt_test_y = lrt_test.values.ravel()"
   ]
  },
  {
   "cell_type": "markdown",
   "metadata": {},
   "source": [
    "Calculate and visualize the correlation coefficients between the 20 predictors on the train set."
   ]
  },
  {
   "cell_type": "code",
   "execution_count": 9,
   "metadata": {
    "collapsed": false
   },
   "outputs": [
    {
     "data": {
      "text/plain": [
       "<matplotlib.colorbar.Colorbar at 0x10aa18990>"
      ]
     },
     "execution_count": 9,
     "metadata": {},
     "output_type": "execute_result"
    },
    {
     "data": {
      "image/png": "[encoded data removed]",
      "text/plain": [
       "<matplotlib.figure.Figure at 0x10808a9d0>"
      ]
     },
     "metadata": {},
     "output_type": "display_data"
    }
   ],
   "source": [
    "lcombined_train_scaled = c_[llrt_train_scaled, lrng_train_scaled, lvol_train_scaled]\n",
    "lagnames = concatenate([lagged_lrt_train.columns, \n",
    "                        lagged_rng_train.columns, \n",
    "                        lagged_vol_train.columns])\n",
    "lcombined_train_cor = pd.DataFrame(corrcoef(lcombined_train_scaled, rowvar=False), \n",
    "                                   index=lagnames, columns=lagnames)\n",
    "imshow(lcombined_train_cor, vmin=-1, vmax=1)\n",
    "colorbar()"
   ]
  },
  {
   "cell_type": "markdown",
   "metadata": {},
   "source": [
    "This is a very interesting heatmap revealing correlations bewteen lagged log returns and other predictors. The lagged log returns (upper left) display almost zero correlations. On the contrary, the lagged high-low ranges (center) show medium-high correlations. The lagged volumes (lower right) show very strong correlations. There is also a noticeable degree of correlation between the high-low range and volume. **Since both high-low range and volume are related to volitility, this is just an evidence of volitility clustering.**\n",
    "\n",
    "Another noticeable thing is the weak and negative correlation bewteen log return and high-low range on the same day. **That means, if the high-low range is larger, the S&P500 is more likely to be losing than winning on the same day on average.**"
   ]
  },
  {
   "cell_type": "markdown",
   "metadata": {},
   "source": [
    "### 2.1.2 Lagged ARMA residuals"
   ]
  },
  {
   "cell_type": "markdown",
   "metadata": {},
   "source": [
    "Use the same procedure as above on the ARMA residuals to set up predictors and targets, and then apply normalization. The purpose will become more clear when using a hybrid approach to combine ARMA and other machine learning methods."
   ]
  },
  {
   "cell_type": "code",
   "execution_count": 9,
   "metadata": {
    "collapsed": false
   },
   "outputs": [],
   "source": [
    "arma_max_order = 5  # this was used in Chapter 1.\n",
    "arma_train_resid = np.load('saved_dat/arma_train_resid.npy')\n",
    "arma_test_resid = np.load('saved_dat/arma_test_resid.npy')\n",
    "# Pad the train set residuals with its means to make it equal\n",
    "# length with the log return series.\n",
    "arma_train_resid = concatenate([repeat(arma_train_resid.mean(), arma_max_order), \n",
    "                                arma_train_resid])\n",
    "arma_all_resid = concatenate((arma_train_resid, arma_test_resid))\n",
    "lagged_resid_df = ts_to_lagged_df(arma_all_resid, 'S', index=ts_logrtX.index, \n",
    "                                  lag_size=max_lag)\n",
    "lagged_resid_train = lagged_resid_df[:split_date]\n",
    "lagged_resid_test = lagged_resid_df[split_date:]\n",
    "lresid_scaler = preprocessing.StandardScaler().fit(lagged_resid_train)\n",
    "lresid_train_scaled = lresid_scaler.transform(lagged_resid_train)\n",
    "lresid_test_scaled = lresid_scaler.transform(lagged_resid_test)\n",
    "lresid_train_y = arma_train_resid[max_lag:]\n",
    "lresid_test_y = arma_test_resid"
   ]
  },
  {
   "cell_type": "markdown",
   "metadata": {},
   "source": [
    "Save all the transformed data into a zipped file for easy loading later or by other programs."
   ]
  },
  {
   "cell_type": "code",
   "execution_count": 125,
   "metadata": {
    "collapsed": false
   },
   "outputs": [],
   "source": [
    "_ = '''\n",
    "savez('saved_dat/lagged_lrtX_traintest.npz', \n",
    "      llrt_train_scaled=llrt_train_scaled, \n",
    "      llrt_test_scaled=llrt_test_scaled,\n",
    "      lrng_train_scaled=lrng_train_scaled,\n",
    "      lrng_test_scaled=lrng_test_scaled,\n",
    "      lvol_train_scaled=lvol_train_scaled,\n",
    "      lvol_test_scaled=lvol_test_scaled,\n",
    "      llrt_train_y=llrt_train_y,\n",
    "      llrt_test_y=llrt_test_y,\n",
    "      lresid_train_scaled=lresid_train_scaled,\n",
    "      lresid_test_scaled=lresid_test_scaled,\n",
    "      lresid_train_y=lresid_train_y,\n",
    "      lresid_test_y=lresid_test_y)\n",
    "'''"
   ]
  },
  {
   "cell_type": "markdown",
   "metadata": {},
   "source": [
    "*The following code is used to load all the data back into memory in case the notebook is restarted.*"
   ]
  },
  {
   "cell_type": "code",
   "execution_count": 3,
   "metadata": {
    "collapsed": false
   },
   "outputs": [],
   "source": [
    "arma_max_order = 5  # this was used in Chapter 1.\n",
    "max_lag = 20\n",
    "d_ = load('saved_dat/lagged_lrtX_traintest.npz')\n",
    "llrt_train_scaled = d_['llrt_train_scaled']\n",
    "llrt_test_scaled = d_['llrt_test_scaled']\n",
    "lrng_train_scaled = d_['lrng_train_scaled']\n",
    "lrng_test_scaled = d_['lrng_test_scaled']\n",
    "lvol_train_scaled = d_['lvol_train_scaled']\n",
    "lvol_test_scaled = d_['lvol_test_scaled']\n",
    "llrt_train_y = d_['llrt_train_y']\n",
    "llrt_test_y = d_['llrt_test_y']\n",
    "lresid_train_scaled = d_['lresid_train_scaled']\n",
    "lresid_test_scaled = d_['lresid_test_scaled']\n",
    "lresid_train_y = d_['lresid_train_y']\n",
    "lresid_test_y = d_['lresid_test_y']\n",
    "%xdel d_"
   ]
  },
  {
   "cell_type": "markdown",
   "metadata": {},
   "source": [
    "### 2.1.3 Assess feature importance with randomized Lasso and random forest"
   ]
  },
  {
   "cell_type": "markdown",
   "metadata": {},
   "source": [
    "There is no assumption regarding which lagged values are more useful than others as predictors for S&P500 log returns. So here I'll use two feature selection methods - randomized Lasso and random forest to assess their importance."
   ]
  },
  {
   "cell_type": "code",
   "execution_count": 13,
   "metadata": {
    "collapsed": false,
    "scrolled": true
   },
   "outputs": [],
   "source": [
    "from sklearn.linear_model import RandomizedLasso\n",
    "import warnings\n",
    "rand_lasso = RandomizedLasso(n_resampling=3000, normalize=False, random_state=1, n_jobs=1)\n",
    "with warnings.catch_warnings():\n",
    "    warnings.simplefilter('ignore')\n",
    "    rand_lasso.fit(lcombined_train_scaled, llrt_train_y)"
   ]
  },
  {
   "cell_type": "code",
   "execution_count": 14,
   "metadata": {
    "collapsed": false
   },
   "outputs": [
    {
     "data": {
      "text/plain": [
       "<matplotlib.text.Text at 0x111984f90>"
      ]
     },
     "execution_count": 14,
     "metadata": {},
     "output_type": "execute_result"
    },
    {
     "data": {
      "image/png": "[encoded data removed]",
      "text/plain": [
       "<matplotlib.figure.Figure at 0x11984d790>"
      ]
     },
     "metadata": {},
     "output_type": "display_data"
    }
   ],
   "source": [
    "lasso_scores = pd.DataFrame(rand_lasso.scores_, index=lagnames, \n",
    "                            columns=['reliability score'])\n",
    "fig,axes = subplots(1, 3, sharey=True)\n",
    "fig.set_size_inches([14, 3])\n",
    "lasso_scores['L1':'L20'].plot(kind='bar', legend=False, ax=axes[0])\n",
    "lasso_scores['R1':'R20'].plot(kind='bar', legend=False, ax=axes[1])\n",
    "lasso_scores['V1':'V20'].plot(kind='bar', legend=False, ax=axes[2])\n",
    "axes[0].hlines(y=.25, xmin=-.25, xmax=max_lag - .75, colors='r')\n",
    "axes[1].hlines(y=.25, xmin=-.25, xmax=max_lag - .75, colors='r')\n",
    "axes[2].hlines(y=.25, xmin=-.25, xmax=max_lag - .75, colors='r')\n",
    "axes[0].set_ylabel('Reliability score')\n",
    "#axes[1].set_ylabel('Reliability score')\n",
    "#axes[2].set_ylabel('Reliability score')\n",
    "axes[0].set_title('Lagged log return')\n",
    "axes[1].set_title('Log high-low range')\n",
    "axes[2].set_title('Squared root volume')"
   ]
  },
  {
   "cell_type": "markdown",
   "metadata": {},
   "source": [
    "There is really no distinction in reliability scores among the 20 lagged predictors and they are all well above the default 0.25 cutoff."
   ]
  },
  {
   "cell_type": "markdown",
   "metadata": {},
   "source": [
    "Now, use random forest to calculate feature importances. A potential advantage of random forest is that it may capture nonliearities in the data better than randomized Lasso."
   ]
  },
  {
   "cell_type": "code",
   "execution_count": 15,
   "metadata": {
    "collapsed": false
   },
   "outputs": [],
   "source": [
    "from sklearn.ensemble import RandomForestRegressor\n",
    "rand_forest = RandomForestRegressor(n_estimators=3000, n_jobs=2, random_state=1)\n",
    "_ = rand_forest.fit(lcombined_train_scaled, llrt_train_y)"
   ]
  },
  {
   "cell_type": "code",
   "execution_count": 16,
   "metadata": {
    "collapsed": false
   },
   "outputs": [
    {
     "data": {
      "text/plain": [
       "<matplotlib.text.Text at 0x11b38ad90>"
      ]
     },
     "execution_count": 16,
     "metadata": {},
     "output_type": "execute_result"
    },
    {
     "data": {
      "image/png": "[encoded data removed]",
      "text/plain": [
       "<matplotlib.figure.Figure at 0x10aa2b950>"
      ]
     },
     "metadata": {},
     "output_type": "display_data"
    }
   ],
   "source": [
    "rf_scores = pd.DataFrame(rand_forest.feature_importances_, index=lagnames, \n",
    "                         columns=['feature importance'])\n",
    "fig,axes = subplots(1, 3, sharey=True)\n",
    "fig.set_size_inches([14, 3])\n",
    "rf_scores['L1':'L20'].plot(kind='bar', legend=False, ax=axes[0])\n",
    "rf_scores['R1':'R20'].plot(kind='bar', legend=False, ax=axes[1])\n",
    "rf_scores['V1':'V20'].plot(kind='bar', legend=False, ax=axes[2])\n",
    "axes[0].set_ylabel('Feature importance')\n",
    "axes[0].set_title('Lagged log return')\n",
    "axes[1].set_title('Log high-low range')\n",
    "axes[2].set_title('Squared root volume')"
   ]
  },
  {
   "cell_type": "markdown",
   "metadata": {},
   "source": [
    "Random forest seems to suggest some lagged values are more important than others. But still, there is no clear winner: the largest value is about only 2 times larger than the smallest value. On the other hand, the plot seems to suggest that recent lags are more important than remote lags."
   ]
  },
  {
   "cell_type": "markdown",
   "metadata": {},
   "source": [
    "The same feature selection procedure can be applied to the ARMA residuals:"
   ]
  },
  {
   "cell_type": "code",
   "execution_count": 17,
   "metadata": {
    "collapsed": false
   },
   "outputs": [],
   "source": [
    "rand_lasso_r = RandomizedLasso(n_resampling=3000, normalize=False, random_state=1, n_jobs=1)\n",
    "with warnings.catch_warnings():\n",
    "    warnings.simplefilter('ignore')\n",
    "    rand_lasso_r.fit(lrcombined_train_scaled, lresid_train_y)"
   ]
  },
  {
   "cell_type": "code",
   "execution_count": 18,
   "metadata": {
    "collapsed": false
   },
   "outputs": [
    {
     "data": {
      "text/plain": [
       "<matplotlib.text.Text at 0x11b7b6a50>"
      ]
     },
     "execution_count": 18,
     "metadata": {},
     "output_type": "execute_result"
    },
    {
     "data": {
      "image/png": "[encoded data removed]",
      "text/plain": [
       "<matplotlib.figure.Figure at 0x11b0fe4d0>"
      ]
     },
     "metadata": {},
     "output_type": "display_data"
    }
   ],
   "source": [
    "lasso_scores_r = pd.DataFrame(rand_lasso_r.scores_, index=lagnames, \n",
    "                              columns=['reliability score'])\n",
    "fig,axes = subplots(1, 3, sharey=True)\n",
    "fig.set_size_inches([14, 3])\n",
    "lasso_scores_r['L1':'L20'].plot(kind='bar', legend=False, ax=axes[0])\n",
    "lasso_scores_r['R1':'R20'].plot(kind='bar', legend=False, ax=axes[1])\n",
    "lasso_scores_r['V1':'V20'].plot(kind='bar', legend=False, ax=axes[2])\n",
    "axes[0].hlines(y=.25, xmin=-.25, xmax=max_lag - .75, colors='r')\n",
    "axes[1].hlines(y=.25, xmin=-.25, xmax=max_lag - .75, colors='r')\n",
    "axes[2].hlines(y=.25, xmin=-.25, xmax=max_lag - .75, colors='r')\n",
    "axes[0].set_ylabel('Reliability score')\n",
    "#axes[1].set_ylabel('Reliability score')\n",
    "#axes[2].set_ylabel('Reliability score')\n",
    "axes[0].set_title('Lagged ARMA residual')\n",
    "axes[1].set_title('Log high-low range')\n",
    "axes[2].set_title('Squared root volume')"
   ]
  },
  {
   "cell_type": "code",
   "execution_count": 19,
   "metadata": {
    "collapsed": false
   },
   "outputs": [
    {
     "data": {
      "text/plain": [
       "RandomForestRegressor(bootstrap=True, criterion='mse', max_depth=None,\n",
       "           max_features='auto', max_leaf_nodes=None, min_samples_leaf=1,\n",
       "           min_samples_split=2, min_weight_fraction_leaf=0.0,\n",
       "           n_estimators=3000, n_jobs=2, oob_score=False, random_state=1,\n",
       "           verbose=0, warm_start=False)"
      ]
     },
     "execution_count": 19,
     "metadata": {},
     "output_type": "execute_result"
    }
   ],
   "source": [
    "rand_forest_r = RandomForestRegressor(n_estimators=3000, n_jobs=2, random_state=1)\n",
    "rand_forest_r.fit(lrcombined_train_scaled, lresid_train_y)"
   ]
  },
  {
   "cell_type": "code",
   "execution_count": 20,
   "metadata": {
    "collapsed": false,
    "scrolled": true
   },
   "outputs": [
    {
     "data": {
      "text/plain": [
       "<matplotlib.text.Text at 0x11c283f50>"
      ]
     },
     "execution_count": 20,
     "metadata": {},
     "output_type": "execute_result"
    },
    {
     "data": {
      "image/png": "[encoded data removed]",
      "text/plain": [
       "<matplotlib.figure.Figure at 0x11b5e0810>"
      ]
     },
     "metadata": {},
     "output_type": "display_data"
    }
   ],
   "source": [
    "rf_scores_r = pd.DataFrame(rand_forest_r.feature_importances_, index=lagnames, \n",
    "                           columns=['feature importance'])\n",
    "fig,axes = subplots(1, 3, sharey=True)\n",
    "fig.set_size_inches([14, 3])\n",
    "rf_scores_r['L1':'L20'].plot(kind='bar', legend=False, ax=axes[0])\n",
    "rf_scores_r['R1':'R20'].plot(kind='bar', legend=False, ax=axes[1])\n",
    "rf_scores_r['V1':'V20'].plot(kind='bar', legend=False, ax=axes[2])\n",
    "axes[0].set_ylabel('Feature importance')\n",
    "#axes[1].set_ylabel('Reliability score')\n",
    "#axes[2].set_ylabel('Reliability score')\n",
    "axes[0].set_title('Lagged ARMA residual')\n",
    "axes[1].set_title('Log high-low range')\n",
    "axes[2].set_title('Squared root volume')"
   ]
  },
  {
   "cell_type": "markdown",
   "metadata": {},
   "source": [
    "The patterns are very similar to the log return data."
   ]
  },
  {
   "cell_type": "markdown",
   "metadata": {},
   "source": [
    "## 2.2 Strategy for machine learning"
   ]
  },
  {
   "cell_type": "markdown",
   "metadata": {},
   "source": [
    "Here I give an outline of the machine learning strategy used for S&P500 prediction."
   ]
  },
  {
   "cell_type": "markdown",
   "metadata": {},
   "source": [
    "### 2.2.1 Hyperparameters optimization"
   ]
  },
  {
   "cell_type": "markdown",
   "metadata": {},
   "source": [
    "Hyperparameter optimization is critical to the performance of machine learning algorithms. In this notebook, I mainly use [hyperopt](https://github.com/hyperopt/hyperopt), which is quite popular in the ML community. [hyperopt-sklearn](https://github.com/hyperopt/hyperopt-sklearn) is a wrapper around the hyperopt, which allows one to optimize the hyperparameters for scikit-learn classifiers and regressors with pre-specified (or user-supplied) hyperparameter search spaces and built-in pipelines.\n",
    "\n",
    "I have made significant contributions to the hyperopt-sklearn project, mainly through pull requests [#41](https://github.com/hyperopt/hyperopt-sklearn/pull/41) and [#44](https://github.com/hyperopt/hyperopt-sklearn/pull/44). They can be summarized as:\n",
    "\n",
    "- Added sklearn regressors (it used to be only classifiers)\n",
    "- Enhanced cross-validation by adding K-fold, shuffling, stratification, etc.\n",
    "- Optimized hyperparameter search spaces for most classifiers and regressors.\n",
    "- Added a time series lag selector.\n",
    "- Added a \"warm start\" feature so that one can continue refining hyperparameters based on existing trials.\n",
    "- Improved tests, code modularity and readability, bug fixes."
   ]
  },
  {
   "cell_type": "markdown",
   "metadata": {},
   "source": [
    "### 2.2.2 Hybrid approach to combine ARMA with other machine learning methods"
   ]
  },
  {
   "cell_type": "markdown",
   "metadata": {},
   "source": [
    "The hybrid approach is described in this paper: *G. Peter Zhang, Time series forecasting using a hybrid ARIMA and neural network model, Neurocomputing, Volume 50, January 2003, Pages 159-175.* \n",
    "\n",
    "The key idea is that the nonlinear relationships captured by machine learning methods are not as robust as the linear relationships captured by ARMA. Consequently, machine learning may out-perform ARMA in certain cases but under-perform in other cases. This caused several conflicted reports in comparing ARMA and machine learning in literature. To imporve the robustness, machine learning can be used to make predictions of the ARMA residuals, i.e. capturing the nonlinearities that are missed by the ARMA, and then combine the predictions with the ARMA predictions to make final calls."
   ]
  },
  {
   "cell_type": "markdown",
   "metadata": {},
   "source": [
    "Load ARMA predictions from Chapter 1."
   ]
  },
  {
   "cell_type": "code",
   "execution_count": 4,
   "metadata": {
    "collapsed": false
   },
   "outputs": [],
   "source": [
    "order_diff = max_lag - arma_max_order\n",
    "arma_train_pred = np.load('saved_dat/arma_train_pred.npy')\n",
    "arma_train_pred = arma_train_pred[order_diff:]\n",
    "arma_test_pred = np.load('saved_dat/arma_test_pred.npy')"
   ]
  },
  {
   "cell_type": "markdown",
   "metadata": {},
   "source": [
    "### 2.2.3 Miscellaneous stuffs"
   ]
  },
  {
   "cell_type": "markdown",
   "metadata": {},
   "source": [
    "The following is a utility function copied from Chapter 1 to evaluate test performance at different time horizons."
   ]
  },
  {
   "cell_type": "code",
   "execution_count": 5,
   "metadata": {
    "collapsed": true
   },
   "outputs": [],
   "source": [
    "def r2_in_days(target, pred, n_days):\n",
    "    '''Evaluate R2 scores in different days\n",
    "    Args:\n",
    "        target, pred (array-like): targets and predictions for evaluation.\n",
    "        n_days: time horizon in number of days for evaluation.\n",
    "    Returns: a list of R2 scores.\n",
    "    '''\n",
    "    from sklearn.metrics import r2_score\n",
    "    r2s = []\n",
    "    for d in n_days:\n",
    "        if d == 'all':\n",
    "            r2s.append(r2_score(target, pred))\n",
    "        else:\n",
    "            r2s.append(r2_score(target[:d], pred[:d]))\n",
    "    return r2s"
   ]
  },
  {
   "cell_type": "markdown",
   "metadata": {},
   "source": [
    "## 2.3 K-nearest neighbors"
   ]
  },
  {
   "cell_type": "markdown",
   "metadata": {},
   "source": [
    "KNN is a simple algorithm that looks for the closest cases of a test case (based on some distance metric) in the training set and then make predictions based on the closest cases (using some combination method). Because of its simplicity, it runs faster than other algorithms. So I'll also use KNN to study some of the behaviors of hyperopt in S&P500 predictions."
   ]
  },
  {
   "cell_type": "markdown",
   "metadata": {},
   "source": [
    "### 2.3.1 Direct approach"
   ]
  },
  {
   "cell_type": "markdown",
   "metadata": {},
   "source": [
    "**Analyzing a KNN regressor optimized by K-fold cross-validation**"
   ]
  },
  {
   "cell_type": "markdown",
   "metadata": {},
   "source": [
    "Now, I'll build an optimized KNN model to directly predict S&P500 log returns. The lagged log returns are used as endogenous data and the lagged high-low ranges and volumes are used as exogenous data. For each endogenous/exogenous dataset, a time series lag selector is used. The hyperparameter search space is setup as follows:\n",
    "\n",
    "The lag sizes are drawn from:\n",
    "\n",
    "- **endogenous lag size** ~ *uniform*(1, 20) and must be integer\n",
    "- **exogenous lag size** ~ *uniform*(0, 20) and must be integer\n",
    "\n",
    "The above specification is used across-the-board in this notebook. For KNN, its hyperparameters are drawn from:\n",
    "\n",
    "- **number of neightbors** ~ *uniform*(1, 50) in log scale and must be integer\n",
    "- **weight** ~ { *uniform*, *distance* }\n",
    "- **metric** ~ { (0.55, *euclidean*), (0.15, *manhattan*), (0.15, *chebyshev*), (0.15, *minkowski*)} where the 1st element in the parentheses indicates the probability of selection\n",
    "- when *minkowski* distance is used, the **p** parameter is drawn from: **p** ~ *uniform*(3, 5) and must be integer\n"
   ]
  },
  {
   "cell_type": "markdown",
   "metadata": {},
   "source": [
    "Because of the simplicity of KNN, I use hyperopt to run 200 trials to optimize its hyperparameters. This will provide me with some data for further analysis on the performance of hyperopt."
   ]
  },
  {
   "cell_type": "code",
   "execution_count": 19,
   "metadata": {
    "collapsed": false
   },
   "outputs": [
    {
     "name": "stdout",
     "output_type": "stream",
     "text": [
      "Time elapsed: 1445.39568496\n",
      "==========\n",
      "Best model found by random search:\n",
      "{'learner': KNeighborsRegressor(algorithm='auto', leaf_size=30, metric='minkowski',\n",
      "          metric_params=None, n_jobs=1, n_neighbors=45, p=4.0,\n",
      "          weights='uniform'), 'preprocs': (LagSelector(lag_size=14),), 'ex_preprocs': ((LagSelector(lag_size=9),), (LagSelector(lag_size=0),))}\n"
     ]
    }
   ],
   "source": [
    "from hyperopt import tpe, rand\n",
    "from hpsklearn import HyperoptEstimator, knn_regression\n",
    "from hpsklearn.components import ts_lagselector\n",
    "import time\n",
    "import copy\n",
    "\n",
    "fit_start = time.time()\n",
    "knn_rand_opt = HyperoptEstimator(\n",
    "    preprocessing=[ts_lagselector('lrt', 1, 20)],\n",
    "    ex_preprocs=[ [ts_lagselector('rng', 0, 20)], \n",
    "                  [ts_lagselector('vol', 0, 20)] ],\n",
    "    regressor=knn_regression('knn'),\n",
    "    algo=tpe.suggest,\n",
    "    max_evals=200,\n",
    "    seed=1)\n",
    "knn_rand_opt.fit(llrt_train_scaled, llrt_train_y, \n",
    "                 EX_list=[lrng_train_scaled, lvol_train_scaled], \n",
    "                 n_folds=5, cv_shuffle=False)\n",
    "print 'Time elapsed:', time.time() - fit_start\n",
    "print '=' * 10\n",
    "print 'Best model found by random search:'\n",
    "print knn_rand_opt.best_model()"
   ]
  },
  {
   "cell_type": "code",
   "execution_count": 129,
   "metadata": {
    "collapsed": true
   },
   "outputs": [],
   "source": [
    "#import pickle\n",
    "#import gzip\n",
    "#_ = gzip.open('saved_results/knn_rand_opt.txt.gz', 'wb').\\\n",
    "#    write(pickle.dumps(knn_rand_opt))"
   ]
  },
  {
   "cell_type": "code",
   "execution_count": 127,
   "metadata": {
    "collapsed": false
   },
   "outputs": [],
   "source": [
    "#import pickle\n",
    "#import gzip\n",
    "#knn_rand_opt = pickle.load(gzip.open('saved_results/knn_rand_opt.txt.gz', 'rb'))"
   ]
  },
  {
   "cell_type": "markdown",
   "metadata": {},
   "source": [
    "Once hyperopt finishes optimization, I will plot the R2 scores (from K-fold CV) vs. the trial numbers. This allows me to examine the trend of the KNN model's CV performance as the optimization is going. For purely randomized trials, we would expect the trend to be a horizontal line. If the trend line has a positive slope, that means the hyperopt is continuously optimizing the subspace from which the hyperparameters are drawn. "
   ]
  },
  {
   "cell_type": "code",
   "execution_count": 38,
   "metadata": {
    "collapsed": false
   },
   "outputs": [
    {
     "data": {
      "text/plain": [
       "<matplotlib.axes._subplots.AxesSubplot at 0x10f511510>"
      ]
     },
     "execution_count": 38,
     "metadata": {},
     "output_type": "execute_result"
    },
    {
     "data": {
      "image/png": "[encoded data removed]",
      "text/plain": [
       "<matplotlib.figure.Figure at 0x10f4ea5d0>"
      ]
     },
     "metadata": {},
     "output_type": "display_data"
    }
   ],
   "source": [
    "import seaborn as sns\n",
    "fig,ax = subplots(figsize=(10, 6))\n",
    "iter_idx = array(range(len(knn_rand_opt.trials.trials)))\n",
    "iter_val_r2 = 1 - array(knn_rand_opt.trials.losses())\n",
    "ax.plot(iter_idx, iter_val_r2, 'bo-', markersize=4, linewidth=1)\n",
    "sns.regplot(iter_idx, iter_val_r2, scatter=False, robust=True, \n",
    "            line_kws={'linewidth': 2, 'color': 'red'},\n",
    "            ax=ax)"
   ]
  },
  {
   "cell_type": "markdown",
   "metadata": {},
   "source": [
    "In the above plot, each dot represents the R2 scores from CV and the red line represents a robust regression fitted trend. As we can see, as the optimization keeps going, there is a (very weak) positive trend of increasing R2 scores. However, it is disappointing to see that even at higher trial numbers (e.g. >150) the R2 scores can still become very bad (less than -0.6). This is an indication that hyperopt does not capture the relationship between hyperparameters and CV R2 scores very well."
   ]
  },
  {
   "cell_type": "markdown",
   "metadata": {},
   "source": [
    "In the following, I'll perform a more detailed analysis on the positive trend using robust regression."
   ]
  },
  {
   "cell_type": "code",
   "execution_count": 39,
   "metadata": {
    "collapsed": false
   },
   "outputs": [
    {
     "data": {
      "text/html": [
       "<table class=\"simpletable\">\n",
       "<caption>Robust linear Model Regression Results</caption>\n",
       "<tr>\n",
       "  <th>Dep. Variable:</th>          <td>y</td>        <th>  No. Observations:  </th> <td>   200</td>\n",
       "</tr>\n",
       "<tr>\n",
       "  <th>Model:</th>                 <td>RLM</td>       <th>  Df Residuals:      </th> <td>   198</td>\n",
       "</tr>\n",
       "<tr>\n",
       "  <th>Method:</th>               <td>IRLS</td>       <th>  Df Model:          </th> <td>     1</td>\n",
       "</tr>\n",
       "<tr>\n",
       "  <th>Norm:</th>                <td>HuberT</td>      <th>                     </th>    <td> </td>  \n",
       "</tr>\n",
       "<tr>\n",
       "  <th>Scale Est.:</th>            <td>mad</td>       <th>                     </th>    <td> </td>  \n",
       "</tr>\n",
       "<tr>\n",
       "  <th>Cov Type:</th>              <td>H1</td>        <th>                     </th>    <td> </td>  \n",
       "</tr>\n",
       "<tr>\n",
       "  <th>Date:</th>           <td>Thu, 04 Aug 2016</td> <th>                     </th>    <td> </td>  \n",
       "</tr>\n",
       "<tr>\n",
       "  <th>Time:</th>               <td>22:37:25</td>     <th>                     </th>    <td> </td>  \n",
       "</tr>\n",
       "<tr>\n",
       "  <th>No. Iterations:</th>        <td>42</td>        <th>                     </th>    <td> </td>  \n",
       "</tr>\n",
       "</table>\n",
       "<table class=\"simpletable\">\n",
       "<tr>\n",
       "    <td></td>       <th>coef</th>     <th>std err</th>      <th>z</th>      <th>P>|z|</th> <th>[95.0% Conf. Int.]</th> \n",
       "</tr>\n",
       "<tr>\n",
       "  <th>const</th> <td>   -0.0500</td> <td>    0.005</td> <td>   -9.843</td> <td> 0.000</td> <td>   -0.060    -0.040</td>\n",
       "</tr>\n",
       "<tr>\n",
       "  <th>x1</th>    <td>    0.0002</td> <td> 4.42e-05</td> <td>    3.592</td> <td> 0.000</td> <td> 7.21e-05     0.000</td>\n",
       "</tr>\n",
       "</table>"
      ],
      "text/plain": [
       "<class 'statsmodels.iolib.summary.Summary'>\n",
       "\"\"\"\n",
       "                    Robust linear Model Regression Results                    \n",
       "==============================================================================\n",
       "Dep. Variable:                      y   No. Observations:                  200\n",
       "Model:                            RLM   Df Residuals:                      198\n",
       "Method:                          IRLS   Df Model:                            1\n",
       "Norm:                          HuberT                                         \n",
       "Scale Est.:                       mad                                         \n",
       "Cov Type:                          H1                                         \n",
       "Date:                Thu, 04 Aug 2016                                         \n",
       "Time:                        22:37:25                                         \n",
       "No. Iterations:                    42                                         \n",
       "==============================================================================\n",
       "                 coef    std err          z      P>|z|      [95.0% Conf. Int.]\n",
       "------------------------------------------------------------------------------\n",
       "const         -0.0500      0.005     -9.843      0.000        -0.060    -0.040\n",
       "x1             0.0002   4.42e-05      3.592      0.000      7.21e-05     0.000\n",
       "==============================================================================\n",
       "\n",
       "If the model instance has been used for another fit with different fit\n",
       "parameters, then the fit options might not be the correct ones anymore .\n",
       "\"\"\""
      ]
     },
     "execution_count": 39,
     "metadata": {},
     "output_type": "execute_result"
    }
   ],
   "source": [
    "import statsmodels.api as sm\n",
    "X = sm.add_constant(iter_idx)\n",
    "y = iter_val_r2\n",
    "sm.RLM(y, X).fit().summary()"
   ]
  },
  {
   "cell_type": "markdown",
   "metadata": {},
   "source": [
    "This indeed confirms that the positive trend is statistically significant. However, the slope coefficient is very small: 2e-4."
   ]
  },
  {
   "cell_type": "markdown",
   "metadata": {},
   "source": [
    "Now, I'll use the optimized KNN model to make predictions on the test set. I'll also use the previously defined utility function to examine the test R2 scores at different time horizons."
   ]
  },
  {
   "cell_type": "code",
   "execution_count": 20,
   "metadata": {
    "collapsed": false
   },
   "outputs": [
    {
     "data": {
      "text/html": [
       "<div>\n",
       "<table border=\"1\" class=\"dataframe\">\n",
       "  <thead>\n",
       "    <tr style=\"text-align: right;\">\n",
       "      <th></th>\n",
       "      <th>Train</th>\n",
       "      <th>Validation</th>\n",
       "      <th>30d</th>\n",
       "      <th>60d</th>\n",
       "      <th>120d</th>\n",
       "      <th>180d</th>\n",
       "      <th>300d</th>\n",
       "      <th>500d</th>\n",
       "      <th>800d</th>\n",
       "      <th>all</th>\n",
       "    </tr>\n",
       "  </thead>\n",
       "  <tbody>\n",
       "    <tr>\n",
       "      <th>KNN R2</th>\n",
       "      <td>0.043535</td>\n",
       "      <td>0.000617</td>\n",
       "      <td>-0.016165</td>\n",
       "      <td>0.006981</td>\n",
       "      <td>-0.001062</td>\n",
       "      <td>-0.004835</td>\n",
       "      <td>-0.002982</td>\n",
       "      <td>-0.008556</td>\n",
       "      <td>-0.022074</td>\n",
       "      <td>-0.030461</td>\n",
       "    </tr>\n",
       "  </tbody>\n",
       "</table>\n",
       "</div>"
      ],
      "text/plain": [
       "           Train  Validation       30d       60d      120d      180d  \\\n",
       "KNN R2  0.043535    0.000617 -0.016165  0.006981 -0.001062 -0.004835   \n",
       "\n",
       "            300d      500d      800d       all  \n",
       "KNN R2 -0.002982 -0.008556 -0.022074 -0.030461  "
      ]
     },
     "execution_count": 20,
     "metadata": {},
     "output_type": "execute_result"
    }
   ],
   "source": [
    "from sklearn.metrics import r2_score\n",
    "knn_train_pred = knn_rand_opt.predict(llrt_train_scaled, \n",
    "                                      EX_list=[lrng_train_scaled, lvol_train_scaled])\n",
    "knn_test_pred = knn_rand_opt.predict(llrt_test_scaled, \n",
    "                                     EX_list=[lrng_test_scaled, lvol_test_scaled])\n",
    "r2_list = [r2_score(llrt_train_y, knn_train_pred)]\n",
    "r2_list.append(1 - knn_rand_opt.trials.best_trial['result']['loss'])\n",
    "r2_list.extend(r2_in_days(llrt_test_y, knn_test_pred, \n",
    "                          [30, 60, 120, 180, 300, 500, 800, 'all']))\n",
    "knn_r2_hrzn = pd.DataFrame(array(r2_list, ndmin=2), index=['KNN R2'], \n",
    "                           columns=['Train', 'Validation', '30d', '60d', '120d', \n",
    "                                    '180d', '300d', '500d', '800d', 'all'])\n",
    "knn_r2_hrzn"
   ]
  },
  {
   "cell_type": "markdown",
   "metadata": {},
   "source": [
    "Clearly, we can see that the KNN model does not perform well: the validation score is slightly positive while the test scores are negative at most time horizons. The training score is much better than the validation and test scores. This is easy to understand since a training sample always finds itself as the nearest neighbor on the train set, which biases the result."
   ]
  },
  {
   "cell_type": "markdown",
   "metadata": {},
   "source": [
    "**Using randomized KNN regressors to study the correlation between test and validation scores**"
   ]
  },
  {
   "cell_type": "code",
   "execution_count": 40,
   "metadata": {
    "collapsed": false
   },
   "outputs": [
    {
     "name": "stdout",
     "output_type": "stream",
     "text": [
      "Time elapsed: 197.591640949\n"
     ]
    }
   ],
   "source": [
    "n_restarts = 50\n",
    "knn_restart_scores = pd.DataFrame(index=range(n_restarts), \n",
    "                                  columns=['val', 'test'])\n",
    "fit_start = time.time()\n",
    "for i in range(n_restarts):\n",
    "    knn_ = HyperoptEstimator(\n",
    "        preprocessing=[ts_lagselector('lrt', 1, 20)],\n",
    "        ex_preprocs=[ [ts_lagselector('rng', 0, 20)], \n",
    "                      [ts_lagselector('vol', 0, 20)] ],\n",
    "        regressor=knn_regression('knn'),\n",
    "        algo=rand.suggest,\n",
    "        max_evals=1)  # one trial, no seed.\n",
    "    knn_.fit(llrt_train_scaled, llrt_train_y, \n",
    "             EX_list=[lrng_train_scaled, lvol_train_scaled], \n",
    "             n_folds=5, cv_shuffle=False)\n",
    "    knn_restart_scores.ix[i, 'val'] = 1 - knn_.trials.best_trial['result']['loss']\n",
    "    knn_restart_scores.ix[i, 'test'] = knn_.score(llrt_test_scaled, llrt_test_y, \n",
    "                                                  EX_list=[lrng_test_scaled, \n",
    "                                                           lvol_test_scaled])\n",
    "print 'Time elapsed:', time.time() - fit_start"
   ]
  },
  {
   "cell_type": "code",
   "execution_count": 51,
   "metadata": {
    "collapsed": false,
    "scrolled": false
   },
   "outputs": [
    {
     "data": {
      "text/plain": [
       "<matplotlib.axes._subplots.AxesSubplot at 0x1101b12d0>"
      ]
     },
     "execution_count": 51,
     "metadata": {},
     "output_type": "execute_result"
    },
    {
     "data": {
      "image/png": "[encoded data removed]",
      "text/plain": [
       "<matplotlib.figure.Figure at 0x10e186250>"
      ]
     },
     "metadata": {},
     "output_type": "display_data"
    }
   ],
   "source": [
    "knn_restart_scores = knn_restart_scores.apply(pd.to_numeric)\n",
    "fig,ax = subplots(figsize=(8, 5))\n",
    "sns.regplot(x='val', y='test', data=knn_restart_scores, ax=ax)"
   ]
  },
  {
   "cell_type": "code",
   "execution_count": 128,
   "metadata": {
    "collapsed": true
   },
   "outputs": [],
   "source": [
    "#knn_restart_scores.to_csv('saved_results/knn_restart_scores.csv')"
   ]
  },
  {
   "cell_type": "code",
   "execution_count": 52,
   "metadata": {
    "collapsed": false
   },
   "outputs": [
    {
     "data": {
      "text/html": [
       "<table class=\"simpletable\">\n",
       "<caption>OLS Regression Results</caption>\n",
       "<tr>\n",
       "  <th>Dep. Variable:</th>          <td>test</td>       <th>  R-squared:         </th> <td>   0.970</td>\n",
       "</tr>\n",
       "<tr>\n",
       "  <th>Model:</th>                   <td>OLS</td>       <th>  Adj. R-squared:    </th> <td>   0.970</td>\n",
       "</tr>\n",
       "<tr>\n",
       "  <th>Method:</th>             <td>Least Squares</td>  <th>  F-statistic:       </th> <td>   1575.</td>\n",
       "</tr>\n",
       "<tr>\n",
       "  <th>Date:</th>             <td>Thu, 04 Aug 2016</td> <th>  Prob (F-statistic):</th> <td>2.33e-38</td>\n",
       "</tr>\n",
       "<tr>\n",
       "  <th>Time:</th>                 <td>23:17:10</td>     <th>  Log-Likelihood:    </th> <td>  59.630</td>\n",
       "</tr>\n",
       "<tr>\n",
       "  <th>No. Observations:</th>      <td>    50</td>      <th>  AIC:               </th> <td>  -115.3</td>\n",
       "</tr>\n",
       "<tr>\n",
       "  <th>Df Residuals:</th>          <td>    48</td>      <th>  BIC:               </th> <td>  -111.4</td>\n",
       "</tr>\n",
       "<tr>\n",
       "  <th>Df Model:</th>              <td>     1</td>      <th>                     </th>     <td> </td>   \n",
       "</tr>\n",
       "<tr>\n",
       "  <th>Covariance Type:</th>      <td>nonrobust</td>    <th>                     </th>     <td> </td>   \n",
       "</tr>\n",
       "</table>\n",
       "<table class=\"simpletable\">\n",
       "<tr>\n",
       "    <td></td>       <th>coef</th>     <th>std err</th>      <th>t</th>      <th>P>|t|</th> <th>[95.0% Conf. Int.]</th> \n",
       "</tr>\n",
       "<tr>\n",
       "  <th>const</th> <td>   -0.0088</td> <td>    0.014</td> <td>   -0.623</td> <td> 0.536</td> <td>   -0.037     0.020</td>\n",
       "</tr>\n",
       "<tr>\n",
       "  <th>val</th>   <td>    1.8196</td> <td>    0.046</td> <td>   39.685</td> <td> 0.000</td> <td>    1.727     1.912</td>\n",
       "</tr>\n",
       "</table>\n",
       "<table class=\"simpletable\">\n",
       "<tr>\n",
       "  <th>Omnibus:</th>       <td> 7.935</td> <th>  Durbin-Watson:     </th> <td>   1.882</td>\n",
       "</tr>\n",
       "<tr>\n",
       "  <th>Prob(Omnibus):</th> <td> 0.019</td> <th>  Jarque-Bera (JB):  </th> <td>  10.899</td>\n",
       "</tr>\n",
       "<tr>\n",
       "  <th>Skew:</th>          <td> 0.432</td> <th>  Prob(JB):          </th> <td> 0.00430</td>\n",
       "</tr>\n",
       "<tr>\n",
       "  <th>Kurtosis:</th>      <td> 5.118</td> <th>  Cond. No.          </th> <td>    4.52</td>\n",
       "</tr>\n",
       "</table>"
      ],
      "text/plain": [
       "<class 'statsmodels.iolib.summary.Summary'>\n",
       "\"\"\"\n",
       "                            OLS Regression Results                            \n",
       "==============================================================================\n",
       "Dep. Variable:                   test   R-squared:                       0.970\n",
       "Model:                            OLS   Adj. R-squared:                  0.970\n",
       "Method:                 Least Squares   F-statistic:                     1575.\n",
       "Date:                Thu, 04 Aug 2016   Prob (F-statistic):           2.33e-38\n",
       "Time:                        23:17:10   Log-Likelihood:                 59.630\n",
       "No. Observations:                  50   AIC:                            -115.3\n",
       "Df Residuals:                      48   BIC:                            -111.4\n",
       "Df Model:                           1                                         \n",
       "Covariance Type:            nonrobust                                         \n",
       "==============================================================================\n",
       "                 coef    std err          t      P>|t|      [95.0% Conf. Int.]\n",
       "------------------------------------------------------------------------------\n",
       "const         -0.0088      0.014     -0.623      0.536        -0.037     0.020\n",
       "val            1.8196      0.046     39.685      0.000         1.727     1.912\n",
       "==============================================================================\n",
       "Omnibus:                        7.935   Durbin-Watson:                   1.882\n",
       "Prob(Omnibus):                  0.019   Jarque-Bera (JB):               10.899\n",
       "Skew:                           0.432   Prob(JB):                      0.00430\n",
       "Kurtosis:                       5.118   Cond. No.                         4.52\n",
       "==============================================================================\n",
       "\n",
       "Warnings:\n",
       "[1] Standard Errors assume that the covariance matrix of the errors is correctly specified.\n",
       "\"\"\""
      ]
     },
     "execution_count": 52,
     "metadata": {},
     "output_type": "execute_result"
    }
   ],
   "source": [
    "X = sm.add_constant(knn_restart_scores['val'])\n",
    "y = knn_restart_scores['test']\n",
    "sm.OLS(y, X).fit().summary()"
   ]
  },
  {
   "cell_type": "code",
   "execution_count": 57,
   "metadata": {
    "collapsed": false
   },
   "outputs": [
    {
     "data": {
      "text/plain": [
       "<matplotlib.axes._subplots.AxesSubplot at 0x11037a190>"
      ]
     },
     "execution_count": 57,
     "metadata": {},
     "output_type": "execute_result"
    },
    {
     "data": {
      "image/png": "[encoded data removed]",
      "text/plain": [
       "<matplotlib.figure.Figure at 0x10cb30e90>"
      ]
     },
     "metadata": {},
     "output_type": "display_data"
    }
   ],
   "source": [
    "r2_cutoff = -0.05\n",
    "knn_restart_scores_filtered = knn_restart_scores[knn_restart_scores['val'] > r2_cutoff]\n",
    "fig,ax = subplots(figsize=(8, 5))\n",
    "sns.regplot(x='val', y='test', data=knn_restart_scores_filtered, ax=ax)"
   ]
  },
  {
   "cell_type": "code",
   "execution_count": 58,
   "metadata": {
    "collapsed": false
   },
   "outputs": [
    {
     "data": {
      "text/html": [
       "<table class=\"simpletable\">\n",
       "<caption>OLS Regression Results</caption>\n",
       "<tr>\n",
       "  <th>Dep. Variable:</th>          <td>test</td>       <th>  R-squared:         </th> <td>   0.429</td>\n",
       "</tr>\n",
       "<tr>\n",
       "  <th>Model:</th>                   <td>OLS</td>       <th>  Adj. R-squared:    </th> <td>   0.399</td>\n",
       "</tr>\n",
       "<tr>\n",
       "  <th>Method:</th>             <td>Least Squares</td>  <th>  F-statistic:       </th> <td>   14.30</td>\n",
       "</tr>\n",
       "<tr>\n",
       "  <th>Date:</th>             <td>Thu, 04 Aug 2016</td> <th>  Prob (F-statistic):</th>  <td>0.00126</td>\n",
       "</tr>\n",
       "<tr>\n",
       "  <th>Time:</th>                 <td>23:21:57</td>     <th>  Log-Likelihood:    </th> <td>  49.045</td>\n",
       "</tr>\n",
       "<tr>\n",
       "  <th>No. Observations:</th>      <td>    21</td>      <th>  AIC:               </th> <td>  -94.09</td>\n",
       "</tr>\n",
       "<tr>\n",
       "  <th>Df Residuals:</th>          <td>    19</td>      <th>  BIC:               </th> <td>  -92.00</td>\n",
       "</tr>\n",
       "<tr>\n",
       "  <th>Df Model:</th>              <td>     1</td>      <th>                     </th>     <td> </td>   \n",
       "</tr>\n",
       "<tr>\n",
       "  <th>Covariance Type:</th>      <td>nonrobust</td>    <th>                     </th>     <td> </td>   \n",
       "</tr>\n",
       "</table>\n",
       "<table class=\"simpletable\">\n",
       "<tr>\n",
       "    <td></td>       <th>coef</th>     <th>std err</th>      <th>t</th>      <th>P>|t|</th> <th>[95.0% Conf. Int.]</th> \n",
       "</tr>\n",
       "<tr>\n",
       "  <th>const</th> <td>   -0.0171</td> <td>    0.011</td> <td>   -1.537</td> <td> 0.141</td> <td>   -0.040     0.006</td>\n",
       "</tr>\n",
       "<tr>\n",
       "  <th>val</th>   <td>    1.4773</td> <td>    0.391</td> <td>    3.781</td> <td> 0.001</td> <td>    0.660     2.295</td>\n",
       "</tr>\n",
       "</table>\n",
       "<table class=\"simpletable\">\n",
       "<tr>\n",
       "  <th>Omnibus:</th>       <td> 0.116</td> <th>  Durbin-Watson:     </th> <td>   1.469</td>\n",
       "</tr>\n",
       "<tr>\n",
       "  <th>Prob(Omnibus):</th> <td> 0.944</td> <th>  Jarque-Bera (JB):  </th> <td>   0.300</td>\n",
       "</tr>\n",
       "<tr>\n",
       "  <th>Skew:</th>          <td>-0.131</td> <th>  Prob(JB):          </th> <td>   0.860</td>\n",
       "</tr>\n",
       "<tr>\n",
       "  <th>Kurtosis:</th>      <td> 2.476</td> <th>  Cond. No.          </th> <td>    72.8</td>\n",
       "</tr>\n",
       "</table>"
      ],
      "text/plain": [
       "<class 'statsmodels.iolib.summary.Summary'>\n",
       "\"\"\"\n",
       "                            OLS Regression Results                            \n",
       "==============================================================================\n",
       "Dep. Variable:                   test   R-squared:                       0.429\n",
       "Model:                            OLS   Adj. R-squared:                  0.399\n",
       "Method:                 Least Squares   F-statistic:                     14.30\n",
       "Date:                Thu, 04 Aug 2016   Prob (F-statistic):            0.00126\n",
       "Time:                        23:21:57   Log-Likelihood:                 49.045\n",
       "No. Observations:                  21   AIC:                            -94.09\n",
       "Df Residuals:                      19   BIC:                            -92.00\n",
       "Df Model:                           1                                         \n",
       "Covariance Type:            nonrobust                                         \n",
       "==============================================================================\n",
       "                 coef    std err          t      P>|t|      [95.0% Conf. Int.]\n",
       "------------------------------------------------------------------------------\n",
       "const         -0.0171      0.011     -1.537      0.141        -0.040     0.006\n",
       "val            1.4773      0.391      3.781      0.001         0.660     2.295\n",
       "==============================================================================\n",
       "Omnibus:                        0.116   Durbin-Watson:                   1.469\n",
       "Prob(Omnibus):                  0.944   Jarque-Bera (JB):                0.300\n",
       "Skew:                          -0.131   Prob(JB):                        0.860\n",
       "Kurtosis:                       2.476   Cond. No.                         72.8\n",
       "==============================================================================\n",
       "\n",
       "Warnings:\n",
       "[1] Standard Errors assume that the covariance matrix of the errors is correctly specified.\n",
       "\"\"\""
      ]
     },
     "execution_count": 58,
     "metadata": {},
     "output_type": "execute_result"
    }
   ],
   "source": [
    "X = sm.add_constant(knn_restart_scores_filtered['val'])\n",
    "y = knn_restart_scores_filtered['test']\n",
    "sm.OLS(y, X).fit().summary()"
   ]
  },
  {
   "cell_type": "markdown",
   "metadata": {},
   "source": [
    "### 2.3.2 Hybrid approach"
   ]
  },
  {
   "cell_type": "code",
   "execution_count": 78,
   "metadata": {
    "collapsed": false
   },
   "outputs": [
    {
     "name": "stdout",
     "output_type": "stream",
     "text": [
      "Time elapsed: 814.305259943\n",
      "==========\n",
      "Best model found by random search:\n",
      "{'learner': KNeighborsRegressor(algorithm='auto', leaf_size=30, metric='chebyshev',\n",
      "          metric_params=None, n_jobs=1, n_neighbors=45, p=0,\n",
      "          weights='uniform'), 'preprocs': (LagSelector(lag_size=13),), 'ex_preprocs': ((LagSelector(lag_size=11),), (LagSelector(lag_size=4),))}\n"
     ]
    }
   ],
   "source": [
    "fit_start = time.time()\n",
    "knn_hyb_rand_opt = HyperoptEstimator(\n",
    "    preprocessing=[ts_lagselector('lrt', 1, 20)],\n",
    "    ex_preprocs=[ [ts_lagselector('rng', 0, 20)], \n",
    "                  [ts_lagselector('vol', 0, 20)] ],\n",
    "    regressor=knn_regression('knn'),\n",
    "    algo=tpe.suggest,\n",
    "    max_evals=200,\n",
    "    seed=1)\n",
    "knn_hyb_rand_opt.fit(lresid_train_scaled, lresid_train_y, \n",
    "                     EX_list=[lrng_train_scaled, lvol_train_scaled], \n",
    "                     n_folds=5, cv_shuffle=False)\n",
    "print 'Time elapsed:', time.time() - fit_start\n",
    "print '=' * 10\n",
    "print 'Best model found by random search:'\n",
    "print knn_hyb_rand_opt.best_model()"
   ]
  },
  {
   "cell_type": "code",
   "execution_count": 79,
   "metadata": {
    "collapsed": true
   },
   "outputs": [],
   "source": [
    "#_ = gzip.open('saved_results/knn_hyb_rand_opt.txt.gz', 'wb').\\\n",
    "#    write(pickle.dumps(knn_hyb_rand_opt))"
   ]
  },
  {
   "cell_type": "code",
   "execution_count": 80,
   "metadata": {
    "collapsed": false
   },
   "outputs": [
    {
     "name": "stdout",
     "output_type": "stream",
     "text": [
      "Best validation R2 score on ARMA residuals: -0.00139101200687\n"
     ]
    }
   ],
   "source": [
    "print 'Best validation R2 score on ARMA residuals:', \\\n",
    "    1 - knn_hyb_rand_opt.trials.best_trial['result']['loss']"
   ]
  },
  {
   "cell_type": "code",
   "execution_count": 82,
   "metadata": {
    "collapsed": false
   },
   "outputs": [
    {
     "data": {
      "text/html": [
       "<div>\n",
       "<table border=\"1\" class=\"dataframe\">\n",
       "  <thead>\n",
       "    <tr style=\"text-align: right;\">\n",
       "      <th></th>\n",
       "      <th>Train</th>\n",
       "      <th>30d</th>\n",
       "      <th>60d</th>\n",
       "      <th>120d</th>\n",
       "      <th>180d</th>\n",
       "      <th>300d</th>\n",
       "      <th>500d</th>\n",
       "      <th>800d</th>\n",
       "      <th>all</th>\n",
       "    </tr>\n",
       "  </thead>\n",
       "  <tbody>\n",
       "    <tr>\n",
       "      <th>KNN Hyb R2</th>\n",
       "      <td>0.052849</td>\n",
       "      <td>0.046665</td>\n",
       "      <td>0.004673</td>\n",
       "      <td>-0.011197</td>\n",
       "      <td>-0.006287</td>\n",
       "      <td>-0.007806</td>\n",
       "      <td>-0.017172</td>\n",
       "      <td>-0.0285</td>\n",
       "      <td>-0.039314</td>\n",
       "    </tr>\n",
       "  </tbody>\n",
       "</table>\n",
       "</div>"
      ],
      "text/plain": [
       "               Train       30d       60d      120d      180d      300d  \\\n",
       "KNN Hyb R2  0.052849  0.046665  0.004673 -0.011197 -0.006287 -0.007806   \n",
       "\n",
       "                500d    800d       all  \n",
       "KNN Hyb R2 -0.017172 -0.0285 -0.039314  "
      ]
     },
     "execution_count": 82,
     "metadata": {},
     "output_type": "execute_result"
    }
   ],
   "source": [
    "from sklearn.metrics import r2_score\n",
    "knn_train_pred = knn_hyb_rand_opt.predict(lresid_train_scaled, \n",
    "                                          EX_list=[lrng_train_scaled, \n",
    "                                                   lvol_train_scaled])\n",
    "knn_train_pred += arma_train_pred\n",
    "knn_test_pred = knn_hyb_rand_opt.predict(lresid_test_scaled, \n",
    "                                         EX_list=[lrng_test_scaled, \n",
    "                                                  lvol_test_scaled])\n",
    "knn_test_pred += arma_test_pred\n",
    "r2_list = [r2_score(llrt_train_y, knn_train_pred)]\n",
    "r2_list.extend(r2_in_days(llrt_test_y, knn_test_pred, \n",
    "                          [30, 60, 120, 180, 300, 500, 800, 'all']))\n",
    "knn_hyb_r2_hrzn = pd.DataFrame(array(r2_list, ndmin=2), index=['KNN Hyb R2'], \n",
    "                               columns=['Train', '30d', '60d', '120d', \n",
    "                                        '180d', '300d', '500d', '800d', 'all'])\n",
    "knn_hyb_r2_hrzn"
   ]
  },
  {
   "cell_type": "markdown",
   "metadata": {},
   "source": [
    "## 2.4 Random forest and extra trees"
   ]
  },
  {
   "cell_type": "markdown",
   "metadata": {},
   "source": [
    "The ensemble of decision trees is a class of popular machine learning methods that usually generalize very well. Here I consider two ensemble methods - extra trees and random forest. The extra trees method is a variant of the random forest, in which the cutoff values are randomly generated (instead of optimized) each time the nodes are split. This change makes the generated trees more stochastic than the optimized trees in a random forest and is supposed to reduce variance."
   ]
  },
  {
   "cell_type": "markdown",
   "metadata": {},
   "source": [
    "Same as above, I'll define subclasses for the `ExtraTreesRegressor` and the `RandomForestRegressor` classes in sklearn, which allow me to tune the number of lags as a hyperparameter."
   ]
  },
  {
   "cell_type": "markdown",
   "metadata": {},
   "source": [
    "### 2.4.1 Direct approach"
   ]
  },
  {
   "cell_type": "markdown",
   "metadata": {},
   "source": [
    "**Random Forest**"
   ]
  },
  {
   "cell_type": "code",
   "execution_count": 13,
   "metadata": {
    "collapsed": false
   },
   "outputs": [
    {
     "name": "stdout",
     "output_type": "stream",
     "text": [
      "Time elapsed: 9143.65965486\n",
      "==========\n",
      "Best model found by random search:\n",
      "{'learner': RandomForestRegressor(bootstrap=True, criterion='mse', max_depth=4,\n",
      "           max_features=0.624307969951, max_leaf_nodes=None,\n",
      "           min_samples_leaf=1, min_samples_split=2,\n",
      "           min_weight_fraction_leaf=0.0, n_estimators=351, n_jobs=1,\n",
      "           oob_score=False, random_state=4, verbose=False,\n",
      "           warm_start=False), 'preprocs': (LagSelector(lag_size=19),), 'ex_preprocs': ((LagSelector(lag_size=12),), (LagSelector(lag_size=7),))}\n"
     ]
    }
   ],
   "source": [
    "from hyperopt import tpe, rand\n",
    "from hpsklearn import HyperoptEstimator, random_forest_regression, extra_trees_regression\n",
    "from hpsklearn.components import ts_lagselector\n",
    "import time\n",
    "import copy\n",
    "\n",
    "fit_start = time.time()\n",
    "rfr_rand_opt = HyperoptEstimator(\n",
    "    preprocessing=[ts_lagselector('lrt', 1, 20)],\n",
    "    ex_preprocs=[ [ts_lagselector('rng', 0, 20)], \n",
    "                  [ts_lagselector('vol', 0, 20)] ],\n",
    "    regressor=random_forest_regression('rfr'),\n",
    "    algo=tpe.suggest,\n",
    "    max_evals=50,\n",
    "    seed=1)\n",
    "rfr_rand_opt.fit(llrt_train_scaled, llrt_train_y, \n",
    "                 EX_list=[lrng_train_scaled, lvol_train_scaled], \n",
    "                 n_folds=5, cv_shuffle=False)\n",
    "print 'Time elapsed:', time.time() - fit_start\n",
    "print '=' * 10\n",
    "print 'Best model found by random search:'\n",
    "print rfr_rand_opt.best_model()"
   ]
  },
  {
   "cell_type": "code",
   "execution_count": 130,
   "metadata": {
    "collapsed": true
   },
   "outputs": [],
   "source": [
    "#pickle.dump(rfr_rand_opt, gzip.open('saved_results/rfr_rand_opt.txt.gz', 'wb'))"
   ]
  },
  {
   "cell_type": "code",
   "execution_count": 130,
   "metadata": {
    "collapsed": true
   },
   "outputs": [],
   "source": [
    "#rfr_rand_opt = pickle.load(gzip.open('saved_results/rfr_rand_opt.txt.gz', 'rb'))"
   ]
  },
  {
   "cell_type": "code",
   "execution_count": 14,
   "metadata": {
    "collapsed": false
   },
   "outputs": [
    {
     "data": {
      "text/html": [
       "<div>\n",
       "<table border=\"1\" class=\"dataframe\">\n",
       "  <thead>\n",
       "    <tr style=\"text-align: right;\">\n",
       "      <th></th>\n",
       "      <th>Train</th>\n",
       "      <th>Validation</th>\n",
       "      <th>30d</th>\n",
       "      <th>60d</th>\n",
       "      <th>120d</th>\n",
       "      <th>180d</th>\n",
       "      <th>300d</th>\n",
       "      <th>500d</th>\n",
       "      <th>800d</th>\n",
       "      <th>all</th>\n",
       "    </tr>\n",
       "  </thead>\n",
       "  <tbody>\n",
       "    <tr>\n",
       "      <th>RFR R2</th>\n",
       "      <td>0.119012</td>\n",
       "      <td>0.011029</td>\n",
       "      <td>-0.000498</td>\n",
       "      <td>0.050217</td>\n",
       "      <td>0.031124</td>\n",
       "      <td>0.03002</td>\n",
       "      <td>0.024991</td>\n",
       "      <td>0.020402</td>\n",
       "      <td>0.016369</td>\n",
       "      <td>0.006118</td>\n",
       "    </tr>\n",
       "  </tbody>\n",
       "</table>\n",
       "</div>"
      ],
      "text/plain": [
       "           Train  Validation       30d       60d      120d     180d      300d  \\\n",
       "RFR R2  0.119012    0.011029 -0.000498  0.050217  0.031124  0.03002  0.024991   \n",
       "\n",
       "            500d      800d       all  \n",
       "RFR R2  0.020402  0.016369  0.006118  "
      ]
     },
     "execution_count": 14,
     "metadata": {},
     "output_type": "execute_result"
    }
   ],
   "source": [
    "from sklearn.metrics import r2_score\n",
    "rfr_train_pred = rfr_rand_opt.predict(llrt_train_scaled, \n",
    "                                      EX_list=[lrng_train_scaled, lvol_train_scaled])\n",
    "rfr_test_pred = rfr_rand_opt.predict(llrt_test_scaled, \n",
    "                                     EX_list=[lrng_test_scaled, lvol_test_scaled])\n",
    "r2_list = [r2_score(llrt_train_y, rfr_train_pred)]\n",
    "r2_list.append(1 - rfr_rand_opt.trials.best_trial['result']['loss'])\n",
    "r2_list.extend(r2_in_days(llrt_test_y, rfr_test_pred, \n",
    "                          [30, 60, 120, 180, 300, 500, 800, 'all']))\n",
    "rfr_r2_hrzn = pd.DataFrame(array(r2_list, ndmin=2), index=['RFR R2'], \n",
    "                           columns=['Train', 'Validation', '30d', '60d', '120d', \n",
    "                                    '180d', '300d', '500d', '800d', 'all'])\n",
    "rfr_r2_hrzn"
   ]
  },
  {
   "cell_type": "markdown",
   "metadata": {},
   "source": [
    "**Extra trees**"
   ]
  },
  {
   "cell_type": "code",
   "execution_count": 15,
   "metadata": {
    "collapsed": false
   },
   "outputs": [
    {
     "name": "stdout",
     "output_type": "stream",
     "text": [
      "Time elapsed: 1213.5449872\n",
      "==========\n",
      "Best model found by random search:\n",
      "{'learner': ExtraTreesRegressor(bootstrap=False, criterion='mse', max_depth=3,\n",
      "          max_features=0.684842692001, max_leaf_nodes=None,\n",
      "          min_samples_leaf=2, min_samples_split=2,\n",
      "          min_weight_fraction_leaf=0.0, n_estimators=1401, n_jobs=1,\n",
      "          oob_score=False, random_state=1, verbose=False, warm_start=False), 'preprocs': (LagSelector(lag_size=20),), 'ex_preprocs': ((LagSelector(lag_size=20),), (LagSelector(lag_size=0),))}\n"
     ]
    }
   ],
   "source": [
    "fit_start = time.time()\n",
    "etr_rand_opt = HyperoptEstimator(\n",
    "    preprocessing=[ts_lagselector('lrt', 1, 20)],\n",
    "    ex_preprocs=[ [ts_lagselector('rng', 0, 20)], \n",
    "                  [ts_lagselector('vol', 0, 20)] ],\n",
    "    regressor=extra_trees_regression('etr'),\n",
    "    algo=tpe.suggest,\n",
    "    max_evals=50,\n",
    "    seed=1)\n",
    "etr_rand_opt.fit(llrt_train_scaled, llrt_train_y, \n",
    "                 EX_list=[lrng_train_scaled, lvol_train_scaled], \n",
    "                 n_folds=5, cv_shuffle=False)\n",
    "print 'Time elapsed:', time.time() - fit_start\n",
    "print '=' * 10\n",
    "print 'Best model found by random search:'\n",
    "print etr_rand_opt.best_model()"
   ]
  },
  {
   "cell_type": "code",
   "execution_count": 131,
   "metadata": {
    "collapsed": true
   },
   "outputs": [],
   "source": [
    "#pickle.dump(etr_rand_opt, gzip.open('saved_results/etr_rand_opt.txt.gz', 'wb'))"
   ]
  },
  {
   "cell_type": "code",
   "execution_count": 16,
   "metadata": {
    "collapsed": false
   },
   "outputs": [
    {
     "data": {
      "text/html": [
       "<div>\n",
       "<table border=\"1\" class=\"dataframe\">\n",
       "  <thead>\n",
       "    <tr style=\"text-align: right;\">\n",
       "      <th></th>\n",
       "      <th>Train</th>\n",
       "      <th>Validation</th>\n",
       "      <th>30d</th>\n",
       "      <th>60d</th>\n",
       "      <th>120d</th>\n",
       "      <th>180d</th>\n",
       "      <th>300d</th>\n",
       "      <th>500d</th>\n",
       "      <th>800d</th>\n",
       "      <th>all</th>\n",
       "    </tr>\n",
       "  </thead>\n",
       "  <tbody>\n",
       "    <tr>\n",
       "      <th>ETR R2</th>\n",
       "      <td>0.063832</td>\n",
       "      <td>0.005814</td>\n",
       "      <td>-0.000454</td>\n",
       "      <td>0.023813</td>\n",
       "      <td>0.016386</td>\n",
       "      <td>0.014993</td>\n",
       "      <td>0.01246</td>\n",
       "      <td>0.009913</td>\n",
       "      <td>0.007564</td>\n",
       "      <td>0.005524</td>\n",
       "    </tr>\n",
       "  </tbody>\n",
       "</table>\n",
       "</div>"
      ],
      "text/plain": [
       "           Train  Validation       30d       60d      120d      180d     300d  \\\n",
       "ETR R2  0.063832    0.005814 -0.000454  0.023813  0.016386  0.014993  0.01246   \n",
       "\n",
       "            500d      800d       all  \n",
       "ETR R2  0.009913  0.007564  0.005524  "
      ]
     },
     "execution_count": 16,
     "metadata": {},
     "output_type": "execute_result"
    }
   ],
   "source": [
    "from sklearn.metrics import r2_score\n",
    "etr_train_pred = etr_rand_opt.predict(llrt_train_scaled, \n",
    "                                      EX_list=[lrng_train_scaled, lvol_train_scaled])\n",
    "etr_test_pred = etr_rand_opt.predict(llrt_test_scaled, \n",
    "                                     EX_list=[lrng_test_scaled, lvol_test_scaled])\n",
    "r2_list = [r2_score(llrt_train_y, etr_train_pred)]\n",
    "r2_list.append(1 - etr_rand_opt.trials.best_trial['result']['loss'])\n",
    "r2_list.extend(r2_in_days(llrt_test_y, etr_test_pred, \n",
    "                          [30, 60, 120, 180, 300, 500, 800, 'all']))\n",
    "etr_r2_hrzn = pd.DataFrame(array(r2_list, ndmin=2), index=['ETR R2'], \n",
    "                           columns=['Train', 'Validation', '30d', '60d', '120d', \n",
    "                                    '180d', '300d', '500d', '800d', 'all'])\n",
    "etr_r2_hrzn"
   ]
  },
  {
   "cell_type": "markdown",
   "metadata": {},
   "source": [
    "### 2.4.2 Hybrid approach"
   ]
  },
  {
   "cell_type": "markdown",
   "metadata": {},
   "source": [
    "**Random forest**"
   ]
  },
  {
   "cell_type": "code",
   "execution_count": 83,
   "metadata": {
    "collapsed": false
   },
   "outputs": [
    {
     "name": "stdout",
     "output_type": "stream",
     "text": [
      "Time elapsed: 4912.08133698\n",
      "==========\n",
      "Best model found by random search:\n",
      "{'learner': RandomForestRegressor(bootstrap=True, criterion='mse', max_depth=2,\n",
      "           max_features=0.965412786449, max_leaf_nodes=None,\n",
      "           min_samples_leaf=1, min_samples_split=2,\n",
      "           min_weight_fraction_leaf=0.0, n_estimators=29, n_jobs=1,\n",
      "           oob_score=False, random_state=1, verbose=False,\n",
      "           warm_start=False), 'preprocs': (LagSelector(lag_size=7),), 'ex_preprocs': ((LagSelector(lag_size=11),), (LagSelector(lag_size=15),))}\n"
     ]
    }
   ],
   "source": [
    "from hpsklearn import random_forest_regression, extra_trees_regression\n",
    "\n",
    "fit_start = time.time()\n",
    "rfr_hyb_rand_opt = HyperoptEstimator(\n",
    "    preprocessing=[ts_lagselector('lrt', 1, 20)],\n",
    "    ex_preprocs=[ [ts_lagselector('rng', 0, 20)], \n",
    "                  [ts_lagselector('vol', 0, 20)] ],\n",
    "    regressor=random_forest_regression('rfr'),\n",
    "    algo=tpe.suggest,\n",
    "    max_evals=50,\n",
    "    seed=1)\n",
    "rfr_hyb_rand_opt.fit(lresid_train_scaled, lresid_train_y, \n",
    "                     EX_list=[lrng_train_scaled, lvol_train_scaled], \n",
    "                     n_folds=5, cv_shuffle=False)\n",
    "print 'Time elapsed:', time.time() - fit_start\n",
    "print '=' * 10\n",
    "print 'Best model found by random search:'\n",
    "print rfr_hyb_rand_opt.best_model()"
   ]
  },
  {
   "cell_type": "code",
   "execution_count": 84,
   "metadata": {
    "collapsed": false
   },
   "outputs": [],
   "source": [
    "#_ = gzip.open('saved_results/rfr_hyb_rand_opt.txt.gz', 'wb').\\\n",
    "#    write(pickle.dumps(rfr_hyb_rand_opt))"
   ]
  },
  {
   "cell_type": "code",
   "execution_count": 5,
   "metadata": {
    "collapsed": false
   },
   "outputs": [
    {
     "name": "stdout",
     "output_type": "stream",
     "text": [
      "WARN: OMP_NUM_THREADS=None =>\n",
      "... If you are using openblas if you are using openblas set OMP_NUM_THREADS=1 or risk subprocess calls hanging indefinitely\n"
     ]
    }
   ],
   "source": [
    "import pickle\n",
    "import gzip\n",
    "rfr_hyb_rand_opt = pickle.load(gzip.open('saved_results/rfr_hyb_rand_opt.txt.gz', 'rb'))"
   ]
  },
  {
   "cell_type": "code",
   "execution_count": 85,
   "metadata": {
    "collapsed": false
   },
   "outputs": [
    {
     "name": "stdout",
     "output_type": "stream",
     "text": [
      "Best validation R2 score on ARMA residuals: 0.00449864556653\n"
     ]
    }
   ],
   "source": [
    "print 'Best validation R2 score on ARMA residuals:', \\\n",
    "    1 - rfr_hyb_rand_opt.trials.best_trial['result']['loss']"
   ]
  },
  {
   "cell_type": "code",
   "execution_count": 86,
   "metadata": {
    "collapsed": false
   },
   "outputs": [
    {
     "data": {
      "text/html": [
       "<div>\n",
       "<table border=\"1\" class=\"dataframe\">\n",
       "  <thead>\n",
       "    <tr style=\"text-align: right;\">\n",
       "      <th></th>\n",
       "      <th>Train</th>\n",
       "      <th>30d</th>\n",
       "      <th>60d</th>\n",
       "      <th>120d</th>\n",
       "      <th>180d</th>\n",
       "      <th>300d</th>\n",
       "      <th>500d</th>\n",
       "      <th>800d</th>\n",
       "      <th>all</th>\n",
       "    </tr>\n",
       "  </thead>\n",
       "  <tbody>\n",
       "    <tr>\n",
       "      <th>RFR Hyb R2</th>\n",
       "      <td>0.072659</td>\n",
       "      <td>-0.022195</td>\n",
       "      <td>0.003197</td>\n",
       "      <td>0.002995</td>\n",
       "      <td>0.004304</td>\n",
       "      <td>0.003392</td>\n",
       "      <td>0.002201</td>\n",
       "      <td>-0.001368</td>\n",
       "      <td>-0.006564</td>\n",
       "    </tr>\n",
       "  </tbody>\n",
       "</table>\n",
       "</div>"
      ],
      "text/plain": [
       "               Train       30d       60d      120d      180d      300d  \\\n",
       "RFR Hyb R2  0.072659 -0.022195  0.003197  0.002995  0.004304  0.003392   \n",
       "\n",
       "                500d      800d       all  \n",
       "RFR Hyb R2  0.002201 -0.001368 -0.006564  "
      ]
     },
     "execution_count": 86,
     "metadata": {},
     "output_type": "execute_result"
    }
   ],
   "source": [
    "from sklearn.metrics import r2_score\n",
    "rfr_train_pred = rfr_hyb_rand_opt.predict(lresid_train_scaled, \n",
    "                                          EX_list=[lrng_train_scaled, \n",
    "                                                   lvol_train_scaled])\n",
    "rfr_train_pred += arma_train_pred\n",
    "rfr_test_pred = rfr_hyb_rand_opt.predict(lresid_test_scaled, \n",
    "                                         EX_list=[lrng_test_scaled, \n",
    "                                                  lvol_test_scaled])\n",
    "rfr_test_pred += arma_test_pred\n",
    "r2_list = [r2_score(llrt_train_y, rfr_train_pred)]\n",
    "r2_list.extend(r2_in_days(llrt_test_y, rfr_test_pred, \n",
    "                          [30, 60, 120, 180, 300, 500, 800, 'all']))\n",
    "rfr_hyb_r2_hrzn = pd.DataFrame(array(r2_list, ndmin=2), index=['RFR Hyb R2'], \n",
    "                               columns=['Train', '30d', '60d', '120d', \n",
    "                                        '180d', '300d', '500d', '800d', 'all'])\n",
    "rfr_hyb_r2_hrzn"
   ]
  },
  {
   "cell_type": "markdown",
   "metadata": {},
   "source": [
    "**Option 1: refine the best random forest model using warm start**"
   ]
  },
  {
   "cell_type": "code",
   "execution_count": 9,
   "metadata": {
    "collapsed": false
   },
   "outputs": [
    {
     "name": "stdout",
     "output_type": "stream",
     "text": [
      "Time elapsed: 1221.35629702\n",
      "==========\n",
      "Refined best model:\n",
      "{'learner': RandomForestRegressor(bootstrap=True, criterion='mse', max_depth=2,\n",
      "           max_features=0.965412786449, max_leaf_nodes=None,\n",
      "           min_samples_leaf=1, min_samples_split=2,\n",
      "           min_weight_fraction_leaf=0.0, n_estimators=29, n_jobs=1,\n",
      "           oob_score=False, random_state=1, verbose=False,\n",
      "           warm_start=False), 'preprocs': (LagSelector(lag_size=7),), 'ex_preprocs': ((LagSelector(lag_size=11),), (LagSelector(lag_size=15),))}\n"
     ]
    }
   ],
   "source": [
    "import copy\n",
    "import time\n",
    "rfr_hyb_rand_opt_refined = copy.deepcopy(rfr_hyb_rand_opt)\n",
    "rfr_hyb_rand_opt_refined.set_max_evals(50)\n",
    "fit_start = time.time()\n",
    "rfr_hyb_rand_opt_refined.fit(lresid_train_scaled, lresid_train_y, \n",
    "                             EX_list=[lrng_train_scaled, lvol_train_scaled], \n",
    "                             n_folds=5, cv_shuffle=False,\n",
    "                             warm_start=True)\n",
    "print 'Time elapsed:', time.time() - fit_start\n",
    "print '=' * 10\n",
    "print 'Refined best model:'\n",
    "print rfr_hyb_rand_opt_refined.best_model()"
   ]
  },
  {
   "cell_type": "code",
   "execution_count": 11,
   "metadata": {
    "collapsed": false
   },
   "outputs": [],
   "source": [
    "_ = gzip.open('saved_results/rfr_hyb_rand_opt_refined.txt.gz', 'wb').\\\n",
    "    write(pickle.dumps(rfr_hyb_rand_opt_refined))"
   ]
  },
  {
   "cell_type": "code",
   "execution_count": 12,
   "metadata": {
    "collapsed": false
   },
   "outputs": [
    {
     "name": "stdout",
     "output_type": "stream",
     "text": [
      "Best validation R2 score on ARMA residuals: 0.00449864556653\n"
     ]
    }
   ],
   "source": [
    "print 'Best validation R2 score on ARMA residuals:', \\\n",
    "    1 - rfr_hyb_rand_opt_refined.trials.best_trial['result']['loss']"
   ]
  },
  {
   "cell_type": "markdown",
   "metadata": {},
   "source": [
    "**Option 2: use a different random seed**"
   ]
  },
  {
   "cell_type": "code",
   "execution_count": 16,
   "metadata": {
    "collapsed": false
   },
   "outputs": [
    {
     "name": "stdout",
     "output_type": "stream",
     "text": [
      "Time elapsed: 5146.79181385\n",
      "==========\n",
      "Best model found by random search:\n",
      "{'learner': RandomForestRegressor(bootstrap=False, criterion='mse', max_depth=3,\n",
      "           max_features='log2', max_leaf_nodes=None, min_samples_leaf=1,\n",
      "           min_samples_split=2, min_weight_fraction_leaf=0.0,\n",
      "           n_estimators=10, n_jobs=1, oob_score=False, random_state=1,\n",
      "           verbose=False, warm_start=False), 'preprocs': (LagSelector(lag_size=19),), 'ex_preprocs': ((LagSelector(lag_size=17),), (LagSelector(lag_size=15),))}\n"
     ]
    }
   ],
   "source": [
    "from hpsklearn import random_forest_regression, extra_trees_regression\n",
    "from hpsklearn import HyperoptEstimator\n",
    "from hpsklearn import ts_lagselector\n",
    "from hyperopt import tpe, rand\n",
    "\n",
    "fit_start = time.time()\n",
    "rfr_hyb2_rand_opt = HyperoptEstimator(\n",
    "    preprocessing=[ts_lagselector('lrt', 1, 20)],\n",
    "    ex_preprocs=[ [ts_lagselector('rng', 0, 20)], \n",
    "                  [ts_lagselector('vol', 0, 20)] ],\n",
    "    regressor=random_forest_regression('rfr'),\n",
    "    algo=tpe.suggest,\n",
    "    max_evals=50,\n",
    "    seed=10029)\n",
    "rfr_hyb2_rand_opt.fit(lresid_train_scaled, lresid_train_y, \n",
    "                      EX_list=[lrng_train_scaled, lvol_train_scaled], \n",
    "                      n_folds=5, cv_shuffle=False)\n",
    "print 'Time elapsed:', time.time() - fit_start\n",
    "print '=' * 10\n",
    "print 'Best model found by random search:'\n",
    "print rfr_hyb2_rand_opt.best_model()"
   ]
  },
  {
   "cell_type": "code",
   "execution_count": 17,
   "metadata": {
    "collapsed": false
   },
   "outputs": [],
   "source": [
    "_ = gzip.open('saved_results/rfr_hyb2_rand_opt.txt.gz', 'wb').\\\n",
    "    write(pickle.dumps(rfr_hyb2_rand_opt))"
   ]
  },
  {
   "cell_type": "code",
   "execution_count": 18,
   "metadata": {
    "collapsed": false
   },
   "outputs": [
    {
     "name": "stdout",
     "output_type": "stream",
     "text": [
      "Best validation R2 score on ARMA residuals: 0.00623486621894\n"
     ]
    }
   ],
   "source": [
    "print 'Best validation R2 score on ARMA residuals:', \\\n",
    "    1 - rfr_hyb2_rand_opt.trials.best_trial['result']['loss']"
   ]
  },
  {
   "cell_type": "code",
   "execution_count": 24,
   "metadata": {
    "collapsed": false
   },
   "outputs": [
    {
     "data": {
      "text/html": [
       "<div>\n",
       "<table border=\"1\" class=\"dataframe\">\n",
       "  <thead>\n",
       "    <tr style=\"text-align: right;\">\n",
       "      <th></th>\n",
       "      <th>Train</th>\n",
       "      <th>30d</th>\n",
       "      <th>60d</th>\n",
       "      <th>120d</th>\n",
       "      <th>180d</th>\n",
       "      <th>300d</th>\n",
       "      <th>500d</th>\n",
       "      <th>800d</th>\n",
       "      <th>all</th>\n",
       "    </tr>\n",
       "  </thead>\n",
       "  <tbody>\n",
       "    <tr>\n",
       "      <th>RFR Hyb2 R2</th>\n",
       "      <td>0.082091</td>\n",
       "      <td>-0.022823</td>\n",
       "      <td>0.019483</td>\n",
       "      <td>0.011852</td>\n",
       "      <td>0.012251</td>\n",
       "      <td>0.009937</td>\n",
       "      <td>0.007482</td>\n",
       "      <td>0.002826</td>\n",
       "      <td>-0.003022</td>\n",
       "    </tr>\n",
       "  </tbody>\n",
       "</table>\n",
       "</div>"
      ],
      "text/plain": [
       "                Train       30d       60d      120d      180d      300d  \\\n",
       "RFR Hyb2 R2  0.082091 -0.022823  0.019483  0.011852  0.012251  0.009937   \n",
       "\n",
       "                 500d      800d       all  \n",
       "RFR Hyb2 R2  0.007482  0.002826 -0.003022  "
      ]
     },
     "execution_count": 24,
     "metadata": {},
     "output_type": "execute_result"
    }
   ],
   "source": [
    "from sklearn.metrics import r2_score\n",
    "rfr_train_pred = rfr_hyb2_rand_opt.\\\n",
    "    predict(lresid_train_scaled, \n",
    "            EX_list=[lrng_train_scaled, lvol_train_scaled])\n",
    "rfr_train_pred += arma_train_pred\n",
    "rfr_test_pred = rfr_hyb2_rand_opt.\\\n",
    "    predict(lresid_test_scaled, \n",
    "            EX_list=[lrng_test_scaled, lvol_test_scaled])\n",
    "rfr_test_pred += arma_test_pred\n",
    "r2_list = [r2_score(llrt_train_y, rfr_train_pred)]\n",
    "r2_list.extend(r2_in_days(llrt_test_y, rfr_test_pred, \n",
    "                          [30, 60, 120, 180, 300, 500, 800, 'all']))\n",
    "rfr_hyb2_r2_hrzn = pd.DataFrame(array(r2_list, ndmin=2), \n",
    "                                index=['RFR Hyb2 R2'], \n",
    "                                columns=['Train', '30d', '60d', '120d', \n",
    "                                         '180d', '300d', '500d', '800d', 'all'])\n",
    "rfr_hyb2_r2_hrzn"
   ]
  },
  {
   "cell_type": "markdown",
   "metadata": {},
   "source": [
    "**Extra trees**"
   ]
  },
  {
   "cell_type": "code",
   "execution_count": 87,
   "metadata": {
    "collapsed": false
   },
   "outputs": [
    {
     "name": "stdout",
     "output_type": "stream",
     "text": [
      "Time elapsed: 674.21773982\n",
      "==========\n",
      "Best model found by random search:\n",
      "{'learner': ExtraTreesRegressor(bootstrap=False, criterion='mse', max_depth=3,\n",
      "          max_features=0.781870898067, max_leaf_nodes=None,\n",
      "          min_samples_leaf=1, min_samples_split=2,\n",
      "          min_weight_fraction_leaf=0.0, n_estimators=38, n_jobs=1,\n",
      "          oob_score=False, random_state=1, verbose=False, warm_start=False), 'preprocs': (LagSelector(lag_size=7),), 'ex_preprocs': ((LagSelector(lag_size=14),), (LagSelector(lag_size=5),))}\n"
     ]
    }
   ],
   "source": [
    "fit_start = time.time()\n",
    "etr_hyb_rand_opt = HyperoptEstimator(\n",
    "    preprocessing=[ts_lagselector('lrt', 1, 20)],\n",
    "    ex_preprocs=[ [ts_lagselector('rng', 0, 20)], \n",
    "                  [ts_lagselector('vol', 0, 20)] ],\n",
    "    regressor=extra_trees_regression('etr'),\n",
    "    algo=tpe.suggest,\n",
    "    max_evals=50,\n",
    "    seed=1)\n",
    "etr_hyb_rand_opt.fit(lresid_train_scaled, lresid_train_y, \n",
    "                     EX_list=[lrng_train_scaled, lvol_train_scaled], \n",
    "                     n_folds=5, cv_shuffle=False)\n",
    "print 'Time elapsed:', time.time() - fit_start\n",
    "print '=' * 10\n",
    "print 'Best model found by random search:'\n",
    "print etr_hyb_rand_opt.best_model()"
   ]
  },
  {
   "cell_type": "code",
   "execution_count": 88,
   "metadata": {
    "collapsed": false
   },
   "outputs": [],
   "source": [
    "#_ = gzip.open('saved_results/etr_hyb_rand_opt.txt.gz', 'wb').\\\n",
    "#    write(pickle.dumps(etr_hyb_rand_opt))"
   ]
  },
  {
   "cell_type": "code",
   "execution_count": 89,
   "metadata": {
    "collapsed": false
   },
   "outputs": [
    {
     "name": "stdout",
     "output_type": "stream",
     "text": [
      "Best validation R2 score on ARMA residuals: 0.00207053480987\n"
     ]
    }
   ],
   "source": [
    "print 'Best validation R2 score on ARMA residuals:', \\\n",
    "    1 - etr_hyb_rand_opt.trials.best_trial['result']['loss']"
   ]
  },
  {
   "cell_type": "code",
   "execution_count": 90,
   "metadata": {
    "collapsed": false
   },
   "outputs": [
    {
     "data": {
      "text/html": [
       "<div>\n",
       "<table border=\"1\" class=\"dataframe\">\n",
       "  <thead>\n",
       "    <tr style=\"text-align: right;\">\n",
       "      <th></th>\n",
       "      <th>Train</th>\n",
       "      <th>30d</th>\n",
       "      <th>60d</th>\n",
       "      <th>120d</th>\n",
       "      <th>180d</th>\n",
       "      <th>300d</th>\n",
       "      <th>500d</th>\n",
       "      <th>800d</th>\n",
       "      <th>all</th>\n",
       "    </tr>\n",
       "  </thead>\n",
       "  <tbody>\n",
       "    <tr>\n",
       "      <th>ETR Hyb R2</th>\n",
       "      <td>0.077046</td>\n",
       "      <td>-0.021515</td>\n",
       "      <td>0.015516</td>\n",
       "      <td>0.009786</td>\n",
       "      <td>0.010394</td>\n",
       "      <td>0.008486</td>\n",
       "      <td>0.006486</td>\n",
       "      <td>0.002158</td>\n",
       "      <td>-0.004115</td>\n",
       "    </tr>\n",
       "  </tbody>\n",
       "</table>\n",
       "</div>"
      ],
      "text/plain": [
       "               Train       30d       60d      120d      180d      300d  \\\n",
       "ETR Hyb R2  0.077046 -0.021515  0.015516  0.009786  0.010394  0.008486   \n",
       "\n",
       "                500d      800d       all  \n",
       "ETR Hyb R2  0.006486  0.002158 -0.004115  "
      ]
     },
     "execution_count": 90,
     "metadata": {},
     "output_type": "execute_result"
    }
   ],
   "source": [
    "from sklearn.metrics import r2_score\n",
    "etr_train_pred = etr_hyb_rand_opt.predict(lresid_train_scaled, \n",
    "                                          EX_list=[lrng_train_scaled, \n",
    "                                                   lvol_train_scaled])\n",
    "etr_train_pred += arma_train_pred\n",
    "etr_test_pred = etr_hyb_rand_opt.predict(lresid_test_scaled, \n",
    "                                         EX_list=[lrng_test_scaled, \n",
    "                                                  lvol_test_scaled])\n",
    "etr_test_pred += arma_test_pred\n",
    "r2_list = [r2_score(llrt_train_y, etr_train_pred)]\n",
    "r2_list.extend(r2_in_days(llrt_test_y, etr_test_pred, \n",
    "                          [30, 60, 120, 180, 300, 500, 800, 'all']))\n",
    "etr_hyb_r2_hrzn = pd.DataFrame(array(r2_list, ndmin=2), index=['ETR Hyb R2'], \n",
    "                               columns=['Train', '30d', '60d', '120d', \n",
    "                                        '180d', '300d', '500d', '800d', 'all'])\n",
    "etr_hyb_r2_hrzn"
   ]
  },
  {
   "cell_type": "markdown",
   "metadata": {},
   "source": [
    "## 2.5 AdaBoost and GradientBoosting"
   ]
  },
  {
   "cell_type": "markdown",
   "metadata": {},
   "source": [
    "### 2.5.1 Direct approach"
   ]
  },
  {
   "cell_type": "markdown",
   "metadata": {},
   "source": [
    "**AdaBoost**"
   ]
  },
  {
   "cell_type": "code",
   "execution_count": 5,
   "metadata": {
    "collapsed": false
   },
   "outputs": [
    {
     "name": "stdout",
     "output_type": "stream",
     "text": [
      "Time elapsed: 956.798409939\n",
      "==========\n",
      "Best model found by random search:\n",
      "{'learner': AdaBoostRegressor(base_estimator=None, learning_rate=0.0479659177429,\n",
      "         loss='square', n_estimators=98, random_state=1), 'preprocs': (LagSelector(lag_size=19),), 'ex_preprocs': ((LagSelector(lag_size=20),), (LagSelector(lag_size=1),))}\n"
     ]
    }
   ],
   "source": [
    "from hyperopt import tpe, rand\n",
    "from hpsklearn import HyperoptEstimator, ada_boost_regression, gradient_boosting_regression\n",
    "from hpsklearn.components import ts_lagselector\n",
    "import time\n",
    "import copy\n",
    "\n",
    "fit_start = time.time()\n",
    "abr_rand_opt = HyperoptEstimator(\n",
    "    preprocessing=[ts_lagselector('lrt', 1, 20)],\n",
    "    ex_preprocs=[ [ts_lagselector('rng', 0, 20)], \n",
    "                  [ts_lagselector('vol', 0, 20)] ],\n",
    "    regressor=ada_boost_regression('abr'),\n",
    "    algo=tpe.suggest,\n",
    "    max_evals=50,\n",
    "    seed=1)\n",
    "abr_rand_opt.fit(llrt_train_scaled, llrt_train_y, \n",
    "                 EX_list=[lrng_train_scaled, lvol_train_scaled], \n",
    "                 n_folds=5, cv_shuffle=False)\n",
    "print 'Time elapsed:', time.time() - fit_start\n",
    "print '=' * 10\n",
    "print 'Best model found by random search:'\n",
    "print abr_rand_opt.best_model()"
   ]
  },
  {
   "cell_type": "code",
   "execution_count": 6,
   "metadata": {
    "collapsed": true
   },
   "outputs": [],
   "source": [
    "import gzip, pickle\n",
    "pickle.dump(abr_rand_opt, gzip.open('saved_results/abr_rand_opt.txt.gz', 'wb'))"
   ]
  },
  {
   "cell_type": "code",
   "execution_count": 130,
   "metadata": {
    "collapsed": true
   },
   "outputs": [],
   "source": [
    "#abr_rand_opt = pickle.load(gzip.open('saved_results/abr_rand_opt.txt.gz', 'rb'))"
   ]
  },
  {
   "cell_type": "code",
   "execution_count": 7,
   "metadata": {
    "collapsed": false
   },
   "outputs": [
    {
     "data": {
      "text/html": [
       "<div>\n",
       "<table border=\"1\" class=\"dataframe\">\n",
       "  <thead>\n",
       "    <tr style=\"text-align: right;\">\n",
       "      <th></th>\n",
       "      <th>Train</th>\n",
       "      <th>Validation</th>\n",
       "      <th>30d</th>\n",
       "      <th>60d</th>\n",
       "      <th>120d</th>\n",
       "      <th>180d</th>\n",
       "      <th>300d</th>\n",
       "      <th>500d</th>\n",
       "      <th>800d</th>\n",
       "      <th>all</th>\n",
       "    </tr>\n",
       "  </thead>\n",
       "  <tbody>\n",
       "    <tr>\n",
       "      <th>ABR R2</th>\n",
       "      <td>0.082261</td>\n",
       "      <td>0.007725</td>\n",
       "      <td>-0.005134</td>\n",
       "      <td>-0.002027</td>\n",
       "      <td>-0.000367</td>\n",
       "      <td>-0.001511</td>\n",
       "      <td>-0.002244</td>\n",
       "      <td>-0.004453</td>\n",
       "      <td>-0.006912</td>\n",
       "      <td>-0.004687</td>\n",
       "    </tr>\n",
       "  </tbody>\n",
       "</table>\n",
       "</div>"
      ],
      "text/plain": [
       "           Train  Validation       30d       60d      120d      180d  \\\n",
       "ABR R2  0.082261    0.007725 -0.005134 -0.002027 -0.000367 -0.001511   \n",
       "\n",
       "            300d      500d      800d       all  \n",
       "ABR R2 -0.002244 -0.004453 -0.006912 -0.004687  "
      ]
     },
     "execution_count": 7,
     "metadata": {},
     "output_type": "execute_result"
    }
   ],
   "source": [
    "from sklearn.metrics import r2_score\n",
    "abr_train_pred = abr_rand_opt.predict(llrt_train_scaled, \n",
    "                                      EX_list=[lrng_train_scaled, lvol_train_scaled])\n",
    "abr_test_pred = abr_rand_opt.predict(llrt_test_scaled, \n",
    "                                     EX_list=[lrng_test_scaled, lvol_test_scaled])\n",
    "r2_list = [r2_score(llrt_train_y, abr_train_pred)]\n",
    "r2_list.append(1 - abr_rand_opt.trials.best_trial['result']['loss'])\n",
    "r2_list.extend(r2_in_days(llrt_test_y, abr_test_pred, \n",
    "                          [30, 60, 120, 180, 300, 500, 800, 'all']))\n",
    "abr_r2_hrzn = pd.DataFrame(array(r2_list, ndmin=2), index=['ABR R2'], \n",
    "                           columns=['Train', 'Validation', '30d', '60d', '120d', \n",
    "                                    '180d', '300d', '500d', '800d', 'all'])\n",
    "abr_r2_hrzn"
   ]
  },
  {
   "cell_type": "markdown",
   "metadata": {},
   "source": [
    "**GradientBoosting**"
   ]
  },
  {
   "cell_type": "code",
   "execution_count": 8,
   "metadata": {
    "collapsed": false
   },
   "outputs": [
    {
     "name": "stdout",
     "output_type": "stream",
     "text": [
      "Time elapsed: 1370.15038586\n",
      "==========\n",
      "Best model found by random search:\n",
      "{'learner': GradientBoostingRegressor(alpha=0.9, init=None,\n",
      "             learning_rate=0.00863333113821, loss='ls', max_depth=None,\n",
      "             max_features=0.38222967984, max_leaf_nodes=None,\n",
      "             min_samples_leaf=1, min_samples_split=2,\n",
      "             min_weight_fraction_leaf=0.0, n_estimators=78, presort='auto',\n",
      "             random_state=3, subsample=0.85620102628, verbose=0,\n",
      "             warm_start=False), 'preprocs': (LagSelector(lag_size=5),), 'ex_preprocs': ((LagSelector(lag_size=11),), (LagSelector(lag_size=12),))}\n"
     ]
    }
   ],
   "source": [
    "fit_start = time.time()\n",
    "gbr_rand_opt = HyperoptEstimator(\n",
    "    preprocessing=[ts_lagselector('lrt', 1, 20)],\n",
    "    ex_preprocs=[ [ts_lagselector('rng', 0, 20)], \n",
    "                  [ts_lagselector('vol', 0, 20)] ],\n",
    "    regressor=gradient_boosting_regression('gbr'),\n",
    "    algo=tpe.suggest,\n",
    "    max_evals=50,\n",
    "    seed=1)\n",
    "gbr_rand_opt.fit(llrt_train_scaled, llrt_train_y, \n",
    "                 EX_list=[lrng_train_scaled, lvol_train_scaled], \n",
    "                 n_folds=5, cv_shuffle=False)\n",
    "print 'Time elapsed:', time.time() - fit_start\n",
    "print '=' * 10\n",
    "print 'Best model found by random search:'\n",
    "print gbr_rand_opt.best_model()"
   ]
  },
  {
   "cell_type": "code",
   "execution_count": 9,
   "metadata": {
    "collapsed": true
   },
   "outputs": [],
   "source": [
    "pickle.dump(gbr_rand_opt, gzip.open('saved_results/gbr_rand_opt.txt.gz', 'wb'))"
   ]
  },
  {
   "cell_type": "code",
   "execution_count": 10,
   "metadata": {
    "collapsed": false
   },
   "outputs": [
    {
     "data": {
      "text/html": [
       "<div>\n",
       "<table border=\"1\" class=\"dataframe\">\n",
       "  <thead>\n",
       "    <tr style=\"text-align: right;\">\n",
       "      <th></th>\n",
       "      <th>Train</th>\n",
       "      <th>Validation</th>\n",
       "      <th>30d</th>\n",
       "      <th>60d</th>\n",
       "      <th>120d</th>\n",
       "      <th>180d</th>\n",
       "      <th>300d</th>\n",
       "      <th>500d</th>\n",
       "      <th>800d</th>\n",
       "      <th>all</th>\n",
       "    </tr>\n",
       "  </thead>\n",
       "  <tbody>\n",
       "    <tr>\n",
       "      <th>GBR R2</th>\n",
       "      <td>0.687412</td>\n",
       "      <td>0.009733</td>\n",
       "      <td>-0.019627</td>\n",
       "      <td>0.058173</td>\n",
       "      <td>0.025608</td>\n",
       "      <td>0.021697</td>\n",
       "      <td>0.018264</td>\n",
       "      <td>0.017015</td>\n",
       "      <td>0.007811</td>\n",
       "      <td>-0.012533</td>\n",
       "    </tr>\n",
       "  </tbody>\n",
       "</table>\n",
       "</div>"
      ],
      "text/plain": [
       "           Train  Validation       30d       60d      120d      180d  \\\n",
       "GBR R2  0.687412    0.009733 -0.019627  0.058173  0.025608  0.021697   \n",
       "\n",
       "            300d      500d      800d       all  \n",
       "GBR R2  0.018264  0.017015  0.007811 -0.012533  "
      ]
     },
     "execution_count": 10,
     "metadata": {},
     "output_type": "execute_result"
    }
   ],
   "source": [
    "gbr_train_pred = gbr_rand_opt.predict(llrt_train_scaled, \n",
    "                                      EX_list=[lrng_train_scaled, lvol_train_scaled])\n",
    "gbr_test_pred = gbr_rand_opt.predict(llrt_test_scaled, \n",
    "                                     EX_list=[lrng_test_scaled, lvol_test_scaled])\n",
    "r2_list = [r2_score(llrt_train_y, gbr_train_pred)]\n",
    "r2_list.append(1 - gbr_rand_opt.trials.best_trial['result']['loss'])\n",
    "r2_list.extend(r2_in_days(llrt_test_y, gbr_test_pred, \n",
    "                          [30, 60, 120, 180, 300, 500, 800, 'all']))\n",
    "gbr_r2_hrzn = pd.DataFrame(array(r2_list, ndmin=2), index=['GBR R2'], \n",
    "                           columns=['Train', 'Validation', '30d', '60d', '120d', \n",
    "                                    '180d', '300d', '500d', '800d', 'all'])\n",
    "gbr_r2_hrzn"
   ]
  },
  {
   "cell_type": "markdown",
   "metadata": {},
   "source": [
    "### 2.5.2 Hybrid approach"
   ]
  },
  {
   "cell_type": "markdown",
   "metadata": {},
   "source": [
    "**AdaBoost**"
   ]
  },
  {
   "cell_type": "code",
   "execution_count": 11,
   "metadata": {
    "collapsed": false
   },
   "outputs": [
    {
     "name": "stdout",
     "output_type": "stream",
     "text": [
      "Time elapsed: 635.32884717\n",
      "==========\n",
      "Best model found by random search:\n",
      "{'learner': AdaBoostRegressor(base_estimator=None, learning_rate=0.0128716277143,\n",
      "         loss='square', n_estimators=15, random_state=0), 'preprocs': (LagSelector(lag_size=17),), 'ex_preprocs': ((LagSelector(lag_size=15),), (LagSelector(lag_size=6),))}\n"
     ]
    }
   ],
   "source": [
    "fit_start = time.time()\n",
    "abr_hyb_rand_opt = HyperoptEstimator(\n",
    "    preprocessing=[ts_lagselector('lrt', 1, 20)],\n",
    "    ex_preprocs=[ [ts_lagselector('rng', 0, 20)], \n",
    "                  [ts_lagselector('vol', 0, 20)] ],\n",
    "    regressor=ada_boost_regression('abr'),\n",
    "    algo=tpe.suggest,\n",
    "    max_evals=50,\n",
    "    seed=1)\n",
    "abr_hyb_rand_opt.fit(lresid_train_scaled, lresid_train_y, \n",
    "                     EX_list=[lrng_train_scaled, lvol_train_scaled], \n",
    "                     n_folds=5, cv_shuffle=False)\n",
    "print 'Time elapsed:', time.time() - fit_start\n",
    "print '=' * 10\n",
    "print 'Best model found by random search:'\n",
    "print abr_hyb_rand_opt.best_model()"
   ]
  },
  {
   "cell_type": "code",
   "execution_count": 12,
   "metadata": {
    "collapsed": false
   },
   "outputs": [],
   "source": [
    "pickle.dump(abr_hyb_rand_opt, gzip.open('saved_results/abr_hyb_rand_opt.txt.gz', 'wb'))"
   ]
  },
  {
   "cell_type": "code",
   "execution_count": null,
   "metadata": {
    "collapsed": false
   },
   "outputs": [],
   "source": [
    "#import pickle\n",
    "#import gzip\n",
    "#abr_hyb_rand_opt = pickle.load(gzip.open('saved_results/abr_hyb_rand_opt.txt.gz', 'rb'))"
   ]
  },
  {
   "cell_type": "code",
   "execution_count": 13,
   "metadata": {
    "collapsed": false
   },
   "outputs": [
    {
     "name": "stdout",
     "output_type": "stream",
     "text": [
      "Best validation R2 score on ARMA residuals: 0.00662402767807\n"
     ]
    }
   ],
   "source": [
    "print 'Best validation R2 score on ARMA residuals:', \\\n",
    "    1 - abr_hyb_rand_opt.trials.best_trial['result']['loss']"
   ]
  },
  {
   "cell_type": "code",
   "execution_count": 14,
   "metadata": {
    "collapsed": false
   },
   "outputs": [
    {
     "data": {
      "text/html": [
       "<div>\n",
       "<table border=\"1\" class=\"dataframe\">\n",
       "  <thead>\n",
       "    <tr style=\"text-align: right;\">\n",
       "      <th></th>\n",
       "      <th>Train</th>\n",
       "      <th>30d</th>\n",
       "      <th>60d</th>\n",
       "      <th>120d</th>\n",
       "      <th>180d</th>\n",
       "      <th>300d</th>\n",
       "      <th>500d</th>\n",
       "      <th>800d</th>\n",
       "      <th>all</th>\n",
       "    </tr>\n",
       "  </thead>\n",
       "  <tbody>\n",
       "    <tr>\n",
       "      <th>ABR Hyb R2</th>\n",
       "      <td>0.057359</td>\n",
       "      <td>-0.02076</td>\n",
       "      <td>-0.046178</td>\n",
       "      <td>-0.02395</td>\n",
       "      <td>-0.01994</td>\n",
       "      <td>-0.016656</td>\n",
       "      <td>-0.014114</td>\n",
       "      <td>-0.014497</td>\n",
       "      <td>-0.022998</td>\n",
       "    </tr>\n",
       "  </tbody>\n",
       "</table>\n",
       "</div>"
      ],
      "text/plain": [
       "               Train      30d       60d     120d     180d      300d      500d  \\\n",
       "ABR Hyb R2  0.057359 -0.02076 -0.046178 -0.02395 -0.01994 -0.016656 -0.014114   \n",
       "\n",
       "                800d       all  \n",
       "ABR Hyb R2 -0.014497 -0.022998  "
      ]
     },
     "execution_count": 14,
     "metadata": {},
     "output_type": "execute_result"
    }
   ],
   "source": [
    "from sklearn.metrics import r2_score\n",
    "abr_train_pred = abr_hyb_rand_opt.predict(lresid_train_scaled, \n",
    "                                          EX_list=[lrng_train_scaled, \n",
    "                                                   lvol_train_scaled])\n",
    "abr_train_pred += arma_train_pred\n",
    "abr_test_pred = abr_hyb_rand_opt.predict(lresid_test_scaled, \n",
    "                                         EX_list=[lrng_test_scaled, \n",
    "                                                  lvol_test_scaled])\n",
    "abr_test_pred += arma_test_pred\n",
    "r2_list = [r2_score(llrt_train_y, abr_train_pred)]\n",
    "r2_list.extend(r2_in_days(llrt_test_y, abr_test_pred, \n",
    "                          [30, 60, 120, 180, 300, 500, 800, 'all']))\n",
    "abr_hyb_r2_hrzn = pd.DataFrame(array(r2_list, ndmin=2), index=['ABR Hyb R2'], \n",
    "                               columns=['Train', '30d', '60d', '120d', \n",
    "                                        '180d', '300d', '500d', '800d', 'all'])\n",
    "abr_hyb_r2_hrzn"
   ]
  },
  {
   "cell_type": "markdown",
   "metadata": {},
   "source": [
    "**GradientBoosting**"
   ]
  },
  {
   "cell_type": "code",
   "execution_count": 15,
   "metadata": {
    "collapsed": false
   },
   "outputs": [
    {
     "name": "stdout",
     "output_type": "stream",
     "text": [
      "Time elapsed: 903.371691227\n",
      "==========\n",
      "Best model found by random search:\n",
      "{'learner': GradientBoostingRegressor(alpha=0.9, init=None,\n",
      "             learning_rate=0.00410593606526, loss='ls', max_depth=None,\n",
      "             max_features='log2', max_leaf_nodes=None, min_samples_leaf=2,\n",
      "             min_samples_split=2, min_weight_fraction_leaf=0.0,\n",
      "             n_estimators=54, presort='auto', random_state=3,\n",
      "             subsample=0.953800047241, verbose=0, warm_start=False), 'preprocs': (LagSelector(lag_size=18),), 'ex_preprocs': ((LagSelector(lag_size=15),), (LagSelector(lag_size=8),))}\n"
     ]
    }
   ],
   "source": [
    "fit_start = time.time()\n",
    "gbr_hyb_rand_opt = HyperoptEstimator(\n",
    "    preprocessing=[ts_lagselector('lrt', 1, 20)],\n",
    "    ex_preprocs=[ [ts_lagselector('rng', 0, 20)], \n",
    "                  [ts_lagselector('vol', 0, 20)] ],\n",
    "    regressor=gradient_boosting_regression('gbr'),\n",
    "    algo=tpe.suggest,\n",
    "    max_evals=50,\n",
    "    seed=1)\n",
    "gbr_hyb_rand_opt.fit(lresid_train_scaled, lresid_train_y, \n",
    "                     EX_list=[lrng_train_scaled, lvol_train_scaled], \n",
    "                     n_folds=5, cv_shuffle=False)\n",
    "print 'Time elapsed:', time.time() - fit_start\n",
    "print '=' * 10\n",
    "print 'Best model found by random search:'\n",
    "print gbr_hyb_rand_opt.best_model()"
   ]
  },
  {
   "cell_type": "code",
   "execution_count": 16,
   "metadata": {
    "collapsed": false
   },
   "outputs": [],
   "source": [
    "pickle.dump(gbr_hyb_rand_opt, gzip.open('saved_results/gbr_hyb_rand_opt.txt.gz', 'wb'))"
   ]
  },
  {
   "cell_type": "code",
   "execution_count": null,
   "metadata": {
    "collapsed": false
   },
   "outputs": [],
   "source": [
    "#import pickle\n",
    "#import gzip\n",
    "#gbr_hyb_rand_opt = pickle.load(gzip.open('saved_results/gbr_hyb_rand_opt.txt.gz', 'rb'))"
   ]
  },
  {
   "cell_type": "code",
   "execution_count": 17,
   "metadata": {
    "collapsed": false
   },
   "outputs": [
    {
     "name": "stdout",
     "output_type": "stream",
     "text": [
      "Best validation R2 score on ARMA residuals: 0.00134348589657\n"
     ]
    }
   ],
   "source": [
    "print 'Best validation R2 score on ARMA residuals:', \\\n",
    "    1 - gbr_hyb_rand_opt.trials.best_trial['result']['loss']"
   ]
  },
  {
   "cell_type": "code",
   "execution_count": 18,
   "metadata": {
    "collapsed": false
   },
   "outputs": [
    {
     "data": {
      "text/html": [
       "<div>\n",
       "<table border=\"1\" class=\"dataframe\">\n",
       "  <thead>\n",
       "    <tr style=\"text-align: right;\">\n",
       "      <th></th>\n",
       "      <th>Train</th>\n",
       "      <th>30d</th>\n",
       "      <th>60d</th>\n",
       "      <th>120d</th>\n",
       "      <th>180d</th>\n",
       "      <th>300d</th>\n",
       "      <th>500d</th>\n",
       "      <th>800d</th>\n",
       "      <th>all</th>\n",
       "    </tr>\n",
       "  </thead>\n",
       "  <tbody>\n",
       "    <tr>\n",
       "      <th>GBR Hyb R2</th>\n",
       "      <td>0.320706</td>\n",
       "      <td>-0.03206</td>\n",
       "      <td>0.022709</td>\n",
       "      <td>0.015792</td>\n",
       "      <td>0.015477</td>\n",
       "      <td>0.013051</td>\n",
       "      <td>0.010205</td>\n",
       "      <td>0.004681</td>\n",
       "      <td>-0.00274</td>\n",
       "    </tr>\n",
       "  </tbody>\n",
       "</table>\n",
       "</div>"
      ],
      "text/plain": [
       "               Train      30d       60d      120d      180d      300d  \\\n",
       "GBR Hyb R2  0.320706 -0.03206  0.022709  0.015792  0.015477  0.013051   \n",
       "\n",
       "                500d      800d      all  \n",
       "GBR Hyb R2  0.010205  0.004681 -0.00274  "
      ]
     },
     "execution_count": 18,
     "metadata": {},
     "output_type": "execute_result"
    }
   ],
   "source": [
    "from sklearn.metrics import r2_score\n",
    "gbr_train_pred = gbr_hyb_rand_opt.predict(lresid_train_scaled, \n",
    "                                          EX_list=[lrng_train_scaled, \n",
    "                                                   lvol_train_scaled])\n",
    "gbr_train_pred += arma_train_pred\n",
    "gbr_test_pred = gbr_hyb_rand_opt.predict(lresid_test_scaled, \n",
    "                                         EX_list=[lrng_test_scaled, \n",
    "                                                  lvol_test_scaled])\n",
    "gbr_test_pred += arma_test_pred\n",
    "r2_list = [r2_score(llrt_train_y, gbr_train_pred)]\n",
    "r2_list.extend(r2_in_days(llrt_test_y, gbr_test_pred, \n",
    "                          [30, 60, 120, 180, 300, 500, 800, 'all']))\n",
    "gbr_hyb_r2_hrzn = pd.DataFrame(array(r2_list, ndmin=2), index=['GBR Hyb R2'], \n",
    "                               columns=['Train', '30d', '60d', '120d', \n",
    "                                        '180d', '300d', '500d', '800d', 'all'])\n",
    "gbr_hyb_r2_hrzn"
   ]
  },
  {
   "cell_type": "markdown",
   "metadata": {},
   "source": [
    "## 2.x Support vector machines"
   ]
  },
  {
   "cell_type": "markdown",
   "metadata": {},
   "source": [
    "### 2.x.1 SVM - direct approach"
   ]
  },
  {
   "cell_type": "markdown",
   "metadata": {},
   "source": [
    "**SVM optimized with K-fold cross-validation**"
   ]
  },
  {
   "cell_type": "markdown",
   "metadata": {},
   "source": [
    "Next, I'll build an SVM with nonlinear kernels to directly predict S&P500. Since I don't know which kernel to use, I'll let hpsklearn to decide that too."
   ]
  },
  {
   "cell_type": "markdown",
   "metadata": {},
   "source": [
    "**Use random search**"
   ]
  },
  {
   "cell_type": "code",
   "execution_count": 25,
   "metadata": {
    "collapsed": false
   },
   "outputs": [
    {
     "name": "stdout",
     "output_type": "stream",
     "text": [
      "Time elapsed: 7285.75991893\n",
      "==========\n",
      "Best model found by random search:\n",
      "{'learner': SVR(C=6.14316913268e-05, cache_size=512, coef0=0.0, degree=1,\n",
      "  epsilon=0.00122638050433, gamma='auto', kernel='linear',\n",
      "  max_iter=5000000.0, shrinking=True, tol=2.38136481865e-05, verbose=False), 'preprocs': (LagSelector(lag_size=14),), 'ex_preprocs': ((LagSelector(lag_size=13),), (LagSelector(lag_size=20),))}\n"
     ]
    }
   ],
   "source": [
    "from hyperopt import tpe, rand\n",
    "from hpsklearn import HyperoptEstimator, svr\n",
    "from hpsklearn.components import ts_lagselector\n",
    "import time\n",
    "import copy\n",
    "\n",
    "fit_start = time.time()\n",
    "svr_rand_opt = HyperoptEstimator(\n",
    "    preprocessing=[ts_lagselector('lrt', 1, 20)],\n",
    "    ex_preprocs=[ [ts_lagselector('rng', 0, 20)], \n",
    "                  [ts_lagselector('vol', 0, 20)] ],\n",
    "    regressor=svr('svr', max_iter=5e6),\n",
    "    algo=rand.suggest,\n",
    "    max_evals=50,\n",
    "    seed=1)\n",
    "svr_rand_opt.fit(llrt_train_scaled, llrt_train_y, \n",
    "                 EX_list=[lrng_train_scaled, lvol_train_scaled], \n",
    "                 n_folds=5, cv_shuffle=False)\n",
    "print 'Time elapsed:', time.time() - fit_start\n",
    "print '=' * 10\n",
    "print 'Best model found by random search:'\n",
    "print svr_rand_opt.best_model()"
   ]
  },
  {
   "cell_type": "code",
   "execution_count": 26,
   "metadata": {
    "collapsed": true
   },
   "outputs": [],
   "source": [
    "pickle.dump(svr_rand_opt, gzip.open('saved_results/svr_rand_opt.txt.gz', 'wb'))"
   ]
  },
  {
   "cell_type": "code",
   "execution_count": 6,
   "metadata": {
    "collapsed": false
   },
   "outputs": [
    {
     "name": "stdout",
     "output_type": "stream",
     "text": [
      "WARN: OMP_NUM_THREADS=None =>\n",
      "... If you are using openblas if you are using openblas set OMP_NUM_THREADS=1 or risk subprocess calls hanging indefinitely\n"
     ]
    }
   ],
   "source": [
    "import pickle, gzip\n",
    "svr_rand_opt = pickle.load(gzip.open('saved_results/svr_rand_opt.txt.gz', 'rb'))"
   ]
  },
  {
   "cell_type": "code",
   "execution_count": 32,
   "metadata": {
    "collapsed": false
   },
   "outputs": [
    {
     "data": {
      "text/html": [
       "<div>\n",
       "<table border=\"1\" class=\"dataframe\">\n",
       "  <thead>\n",
       "    <tr style=\"text-align: right;\">\n",
       "      <th></th>\n",
       "      <th>Train</th>\n",
       "      <th>Validation</th>\n",
       "      <th>30d</th>\n",
       "      <th>60d</th>\n",
       "      <th>120d</th>\n",
       "      <th>180d</th>\n",
       "      <th>300d</th>\n",
       "      <th>500d</th>\n",
       "      <th>800d</th>\n",
       "      <th>all</th>\n",
       "    </tr>\n",
       "  </thead>\n",
       "  <tbody>\n",
       "    <tr>\n",
       "      <th>SVR R2</th>\n",
       "      <td>0.015575</td>\n",
       "      <td>0.000096</td>\n",
       "      <td>-0.039342</td>\n",
       "      <td>-0.004182</td>\n",
       "      <td>-0.002238</td>\n",
       "      <td>-0.001335</td>\n",
       "      <td>-0.003569</td>\n",
       "      <td>-0.000603</td>\n",
       "      <td>-0.005412</td>\n",
       "      <td>-0.007036</td>\n",
       "    </tr>\n",
       "  </tbody>\n",
       "</table>\n",
       "</div>"
      ],
      "text/plain": [
       "           Train  Validation       30d       60d      120d      180d  \\\n",
       "SVR R2  0.015575    0.000096 -0.039342 -0.004182 -0.002238 -0.001335   \n",
       "\n",
       "            300d      500d      800d       all  \n",
       "SVR R2 -0.003569 -0.000603 -0.005412 -0.007036  "
      ]
     },
     "execution_count": 32,
     "metadata": {},
     "output_type": "execute_result"
    }
   ],
   "source": [
    "from sklearn.metrics import r2_score\n",
    "svr_train_pred = svr_rand_opt.predict(llrt_train_scaled, \n",
    "                                      EX_list=[lrng_train_scaled, lvol_train_scaled])\n",
    "svr_test_pred = svr_rand_opt.predict(llrt_test_scaled, \n",
    "                                     EX_list=[lrng_test_scaled, lvol_test_scaled])\n",
    "r2_list = [r2_score(llrt_train_y, svr_train_pred)]\n",
    "r2_list.append(1 - svr_rand_opt.trials.best_trial['result']['loss'])\n",
    "r2_list.extend(r2_in_days(llrt_test_y, svr_test_pred, \n",
    "                          [30, 60, 120, 180, 300, 500, 800, 'all']))\n",
    "svr_r2_hrzn = pd.DataFrame(array(r2_list, ndmin=2), index=['SVR R2'], \n",
    "                           columns=['Train', 'Validation', '30d', '60d', '120d', \n",
    "                                    '180d', '300d', '500d', '800d', 'all'])\n",
    "svr_r2_hrzn"
   ]
  },
  {
   "cell_type": "markdown",
   "metadata": {},
   "source": [
    "**Refine the best model found**"
   ]
  },
  {
   "cell_type": "code",
   "execution_count": 28,
   "metadata": {
    "collapsed": false
   },
   "outputs": [
    {
     "name": "stdout",
     "output_type": "stream",
     "text": [
      "Time elapsed: 33278.2932019\n",
      "==========\n",
      "Refined best model:\n",
      "{'learner': SVR(C=9.01406846603e-05, cache_size=512, coef0=0.0, degree=1,\n",
      "  epsilon=0.00270678499534, gamma='auto', kernel='linear',\n",
      "  max_iter=5000000.0, shrinking=True, tol=0.000311374866663, verbose=False), 'preprocs': (LagSelector(lag_size=12),), 'ex_preprocs': ((LagSelector(lag_size=10),), (LagSelector(lag_size=20),))}\n"
     ]
    }
   ],
   "source": [
    "svr_rand_refined = copy.deepcopy(svr_rand_opt)\n",
    "svr_rand_refined.set_max_evals(50)\n",
    "svr_rand_refined.set_algo(tpe.suggest)\n",
    "fit_start = time.time()\n",
    "svr_rand_refined.fit(llrt_train_scaled, llrt_train_y, \n",
    "                     EX_list=[lrng_train_scaled, lvol_train_scaled], \n",
    "                     warm_start=True, n_folds=5, cv_shuffle=False)\n",
    "print 'Time elapsed:', time.time() - fit_start\n",
    "print '=' * 10\n",
    "print 'Refined best model:'\n",
    "print svr_rand_refined.best_model()"
   ]
  },
  {
   "cell_type": "code",
   "execution_count": 29,
   "metadata": {
    "collapsed": true
   },
   "outputs": [],
   "source": [
    "#pickle.dump(svr_rand_refined, gzip.open('saved_results/svr_rand_refined.txt.gz', 'wb'))"
   ]
  },
  {
   "cell_type": "code",
   "execution_count": 20,
   "metadata": {
    "collapsed": true
   },
   "outputs": [],
   "source": [
    "svr_rand_refined = pickle.load(gzip.open('saved_results/svr_rand_refined.txt.gz', 'rb'))"
   ]
  },
  {
   "cell_type": "code",
   "execution_count": 21,
   "metadata": {
    "collapsed": false
   },
   "outputs": [
    {
     "data": {
      "text/html": [
       "<div>\n",
       "<table border=\"1\" class=\"dataframe\">\n",
       "  <thead>\n",
       "    <tr style=\"text-align: right;\">\n",
       "      <th></th>\n",
       "      <th>Train</th>\n",
       "      <th>Validation</th>\n",
       "      <th>30d</th>\n",
       "      <th>60d</th>\n",
       "      <th>120d</th>\n",
       "      <th>180d</th>\n",
       "      <th>300d</th>\n",
       "      <th>500d</th>\n",
       "      <th>800d</th>\n",
       "      <th>all</th>\n",
       "    </tr>\n",
       "  </thead>\n",
       "  <tbody>\n",
       "    <tr>\n",
       "      <th>SVR Refined R2</th>\n",
       "      <td>0.017417</td>\n",
       "      <td>0.002524</td>\n",
       "      <td>-0.031682</td>\n",
       "      <td>0.002319</td>\n",
       "      <td>-0.001981</td>\n",
       "      <td>-0.003223</td>\n",
       "      <td>-0.003338</td>\n",
       "      <td>0.00022</td>\n",
       "      <td>-0.004313</td>\n",
       "      <td>-0.005668</td>\n",
       "    </tr>\n",
       "  </tbody>\n",
       "</table>\n",
       "</div>"
      ],
      "text/plain": [
       "                   Train  Validation       30d       60d      120d      180d  \\\n",
       "SVR Refined R2  0.017417    0.002524 -0.031682  0.002319 -0.001981 -0.003223   \n",
       "\n",
       "                    300d     500d      800d       all  \n",
       "SVR Refined R2 -0.003338  0.00022 -0.004313 -0.005668  "
      ]
     },
     "execution_count": 21,
     "metadata": {},
     "output_type": "execute_result"
    }
   ],
   "source": [
    "from sklearn.metrics import r2_score\n",
    "svr_train_pred = svr_rand_refined.predict(llrt_train_scaled, \n",
    "                                          EX_list=[lrng_train_scaled, lvol_train_scaled])\n",
    "svr_test_pred = svr_rand_refined.predict(llrt_test_scaled, \n",
    "                                         EX_list=[lrng_test_scaled, lvol_test_scaled])\n",
    "r2_list = [r2_score(llrt_train_y, svr_train_pred)]\n",
    "r2_list.append(1 - svr_rand_refined.trials.best_trial['result']['loss'])\n",
    "r2_list.extend(r2_in_days(llrt_test_y, svr_test_pred, \n",
    "                          [30, 60, 120, 180, 300, 500, 800, 'all']))\n",
    "svr_refined_r2_hrzn = pd.DataFrame(array(r2_list, ndmin=2), index=['SVR Refined R2'], \n",
    "                                   columns=['Train', 'Validation', '30d', '60d', '120d', \n",
    "                                            '180d', '300d', '500d', '800d', 'all'])\n",
    "svr_refined_r2_hrzn"
   ]
  },
  {
   "cell_type": "markdown",
   "metadata": {},
   "source": [
    "### 2.x.2 Hybrid approach"
   ]
  },
  {
   "cell_type": "markdown",
   "metadata": {},
   "source": [
    "**SVM optimized with K-fold cross-validation**"
   ]
  },
  {
   "cell_type": "code",
   "execution_count": 22,
   "metadata": {
    "collapsed": false
   },
   "outputs": [
    {
     "name": "stdout",
     "output_type": "stream",
     "text": [
      "Time elapsed: 23992.8537149\n",
      "==========\n",
      "Best model found by random search:\n",
      "{'learner': SVR(C=0.000402786628299, cache_size=512, coef0=0.0, degree=1,\n",
      "  epsilon=0.022247391504, gamma=0.204034217093, kernel='rbf',\n",
      "  max_iter=5000000.0, shrinking=False, tol=1.9778069088e-05, verbose=False), 'preprocs': (LagSelector(lag_size=12),), 'ex_preprocs': ((LagSelector(lag_size=5),), (LagSelector(lag_size=14),))}\n"
     ]
    }
   ],
   "source": [
    "from hyperopt import tpe, rand\n",
    "from hpsklearn import HyperoptEstimator, svr\n",
    "from hpsklearn.components import ts_lagselector\n",
    "import time\n",
    "import copy\n",
    "\n",
    "fit_start = time.time()\n",
    "svr_hyb_rand_opt = HyperoptEstimator(\n",
    "    preprocessing=[ts_lagselector('lrt', 1, 20)],\n",
    "    ex_preprocs=[ [ts_lagselector('rng', 0, 20)], \n",
    "                  [ts_lagselector('vol', 0, 20)] ],\n",
    "    regressor=svr('svr', max_iter=5e6),\n",
    "    algo=rand.suggest,\n",
    "    max_evals=50,\n",
    "    seed=1)\n",
    "svr_hyb_rand_opt.fit(lresid_train_scaled, lresid_train_y, \n",
    "                     EX_list=[lrng_train_scaled, lvol_train_scaled], \n",
    "                     n_folds=5, cv_shuffle=False)\n",
    "print 'Time elapsed:', time.time() - fit_start\n",
    "print '=' * 10\n",
    "print 'Best model found by random search:'\n",
    "print svr_hyb_rand_opt.best_model()"
   ]
  },
  {
   "cell_type": "code",
   "execution_count": 23,
   "metadata": {
    "collapsed": true
   },
   "outputs": [],
   "source": [
    "pickle.dump(svr_hyb_rand_opt, gzip.open('saved_results/svr_hyb_rand_opt.txt.gz', 'wb'))"
   ]
  },
  {
   "cell_type": "code",
   "execution_count": 7,
   "metadata": {
    "collapsed": true
   },
   "outputs": [],
   "source": [
    "svr_hyb_rand_opt = pickle.load(gzip.open('saved_results/svr_hyb_rand_opt.txt.gz', 'rb'))"
   ]
  },
  {
   "cell_type": "code",
   "execution_count": 24,
   "metadata": {
    "collapsed": false
   },
   "outputs": [
    {
     "name": "stdout",
     "output_type": "stream",
     "text": [
      "Best validation R2 score on ARMA residuals: -0.00109167535274\n"
     ]
    }
   ],
   "source": [
    "print 'Best validation R2 score on ARMA residuals:', \\\n",
    "    1 - svr_hyb_rand_opt.trials.best_trial['result']['loss']"
   ]
  },
  {
   "cell_type": "code",
   "execution_count": 25,
   "metadata": {
    "collapsed": false
   },
   "outputs": [
    {
     "data": {
      "text/html": [
       "<div>\n",
       "<table border=\"1\" class=\"dataframe\">\n",
       "  <thead>\n",
       "    <tr style=\"text-align: right;\">\n",
       "      <th></th>\n",
       "      <th>Train</th>\n",
       "      <th>30d</th>\n",
       "      <th>60d</th>\n",
       "      <th>120d</th>\n",
       "      <th>180d</th>\n",
       "      <th>300d</th>\n",
       "      <th>500d</th>\n",
       "      <th>800d</th>\n",
       "      <th>all</th>\n",
       "    </tr>\n",
       "  </thead>\n",
       "  <tbody>\n",
       "    <tr>\n",
       "      <th>SVR Hyb R2</th>\n",
       "      <td>0.024867</td>\n",
       "      <td>-0.033599</td>\n",
       "      <td>0.005239</td>\n",
       "      <td>0.001922</td>\n",
       "      <td>0.00141</td>\n",
       "      <td>-0.000202</td>\n",
       "      <td>-0.004032</td>\n",
       "      <td>-0.010414</td>\n",
       "      <td>-0.011987</td>\n",
       "    </tr>\n",
       "  </tbody>\n",
       "</table>\n",
       "</div>"
      ],
      "text/plain": [
       "               Train       30d       60d      120d     180d      300d  \\\n",
       "SVR Hyb R2  0.024867 -0.033599  0.005239  0.001922  0.00141 -0.000202   \n",
       "\n",
       "                500d      800d       all  \n",
       "SVR Hyb R2 -0.004032 -0.010414 -0.011987  "
      ]
     },
     "execution_count": 25,
     "metadata": {},
     "output_type": "execute_result"
    }
   ],
   "source": [
    "from sklearn.metrics import r2_score\n",
    "svr_train_pred = svr_hyb_rand_opt.predict(lresid_train_scaled, \n",
    "                                          EX_list=[lrng_train_scaled, \n",
    "                                                   lvol_train_scaled])\n",
    "svr_train_pred += arma_train_pred\n",
    "svr_test_pred = svr_hyb_rand_opt.predict(lresid_test_scaled, \n",
    "                                         EX_list=[lrng_test_scaled, \n",
    "                                                  lvol_test_scaled])\n",
    "svr_test_pred += arma_test_pred\n",
    "r2_list = [r2_score(llrt_train_y, svr_train_pred)]\n",
    "r2_list.extend(r2_in_days(llrt_test_y, svr_test_pred, \n",
    "                          [30, 60, 120, 180, 300, 500, 800, 'all']))\n",
    "svr_hyb_r2_hrzn = pd.DataFrame(array(r2_list, ndmin=2), index=['SVR Hyb R2'], \n",
    "                               columns=['Train', '30d', '60d', '120d', \n",
    "                                        '180d', '300d', '500d', '800d', 'all'])\n",
    "svr_hyb_r2_hrzn"
   ]
  },
  {
   "cell_type": "markdown",
   "metadata": {},
   "source": [
    "**Refine best model**"
   ]
  },
  {
   "cell_type": "code",
   "execution_count": 10,
   "metadata": {
    "collapsed": false
   },
   "outputs": [
    {
     "name": "stdout",
     "output_type": "stream",
     "text": [
      "Time elapsed: 2971.89023614\n",
      "==========\n",
      "Refined best model:\n",
      "{'learner': SVR(C=0.000506017282702, cache_size=512, coef0=0.0, degree=1,\n",
      "  epsilon=0.0077730861729, gamma=539.451319479, kernel='rbf',\n",
      "  max_iter=5000000.0, shrinking=False, tol=0.000969822991271,\n",
      "  verbose=False), 'preprocs': (LagSelector(lag_size=10),), 'ex_preprocs': ((LagSelector(lag_size=9),), (LagSelector(lag_size=10),))}\n"
     ]
    }
   ],
   "source": [
    "from hyperopt import tpe, rand\n",
    "from hpsklearn import HyperoptEstimator, svr\n",
    "from hpsklearn.components import ts_lagselector\n",
    "import time\n",
    "import copy\n",
    "\n",
    "svr_hyb_rand_refined = copy.deepcopy(svr_hyb_rand_opt)\n",
    "svr_hyb_rand_refined.max_evals = 50\n",
    "svr_hyb_rand_refined.algo = tpe.suggest\n",
    "fit_start = time.time()\n",
    "svr_hyb_rand_refined.fit(lresid_train_scaled, lresid_train_y, \n",
    "                         EX_list=[lrng_train_scaled, lvol_train_scaled], \n",
    "                         warm_start=True, n_folds=5, cv_shuffle=False)\n",
    "print 'Time elapsed:', time.time() - fit_start\n",
    "print '=' * 10\n",
    "print 'Refined best model:'\n",
    "print svr_hyb_rand_refined.best_model()"
   ]
  },
  {
   "cell_type": "code",
   "execution_count": 11,
   "metadata": {
    "collapsed": true
   },
   "outputs": [],
   "source": [
    "pickle.dump(svr_hyb_rand_refined, gzip.open('saved_results/svr_hyb_rand_refined.txt.gz', 'wb'))"
   ]
  },
  {
   "cell_type": "code",
   "execution_count": 12,
   "metadata": {
    "collapsed": false
   },
   "outputs": [
    {
     "name": "stdout",
     "output_type": "stream",
     "text": [
      "Best validation R2 score on ARMA residuals: -0.000956829355356\n"
     ]
    }
   ],
   "source": [
    "print 'Best validation R2 score on ARMA residuals:', \\\n",
    "    1 - svr_hyb_rand_refined.trials.best_trial['result']['loss']"
   ]
  },
  {
   "cell_type": "code",
   "execution_count": 13,
   "metadata": {
    "collapsed": false
   },
   "outputs": [
    {
     "data": {
      "text/html": [
       "<div>\n",
       "<table border=\"1\" class=\"dataframe\">\n",
       "  <thead>\n",
       "    <tr style=\"text-align: right;\">\n",
       "      <th></th>\n",
       "      <th>Train</th>\n",
       "      <th>30d</th>\n",
       "      <th>60d</th>\n",
       "      <th>120d</th>\n",
       "      <th>180d</th>\n",
       "      <th>300d</th>\n",
       "      <th>500d</th>\n",
       "      <th>800d</th>\n",
       "      <th>all</th>\n",
       "    </tr>\n",
       "  </thead>\n",
       "  <tbody>\n",
       "    <tr>\n",
       "      <th>SVR Hyb Refined R2</th>\n",
       "      <td>0.053293</td>\n",
       "      <td>-0.022903</td>\n",
       "      <td>0.003553</td>\n",
       "      <td>0.002928</td>\n",
       "      <td>0.004078</td>\n",
       "      <td>0.003098</td>\n",
       "      <td>0.001719</td>\n",
       "      <td>-0.002044</td>\n",
       "      <td>-0.004657</td>\n",
       "    </tr>\n",
       "  </tbody>\n",
       "</table>\n",
       "</div>"
      ],
      "text/plain": [
       "                       Train       30d       60d      120d      180d  \\\n",
       "SVR Hyb Refined R2  0.053293 -0.022903  0.003553  0.002928  0.004078   \n",
       "\n",
       "                        300d      500d      800d       all  \n",
       "SVR Hyb Refined R2  0.003098  0.001719 -0.002044 -0.004657  "
      ]
     },
     "execution_count": 13,
     "metadata": {},
     "output_type": "execute_result"
    }
   ],
   "source": [
    "from sklearn.metrics import r2_score\n",
    "svr_train_pred = svr_hyb_rand_refined.predict(lresid_train_scaled, \n",
    "                                              EX_list=[lrng_train_scaled, \n",
    "                                                       lvol_train_scaled])\n",
    "svr_train_pred += arma_train_pred\n",
    "svr_test_pred = svr_hyb_rand_refined.predict(lresid_test_scaled, \n",
    "                                             EX_list=[lrng_test_scaled, \n",
    "                                                      lvol_test_scaled])\n",
    "svr_test_pred += arma_test_pred\n",
    "r2_list = [r2_score(llrt_train_y, svr_train_pred)]\n",
    "r2_list.extend(r2_in_days(llrt_test_y, svr_test_pred, \n",
    "                          [30, 60, 120, 180, 300, 500, 800, 'all']))\n",
    "svr_hyb_refined_r2_hrzn = pd.DataFrame(array(r2_list, ndmin=2), \n",
    "                                       index=['SVR Hyb Refined R2'], \n",
    "                                       columns=['Train', '30d', '60d', '120d', \n",
    "                                                '180d', '300d', '500d', '800d', \n",
    "                                                'all'])\n",
    "svr_hyb_refined_r2_hrzn"
   ]
  }
 ],
 "metadata": {
  "kernelspec": {
   "display_name": "Python 2",
   "language": "python",
   "name": "python2"
  },
  "language_info": {
   "codemirror_mode": {
    "name": "ipython",
    "version": 2
   },
   "file_extension": ".py",
   "mimetype": "text/x-python",
   "name": "python",
   "nbconvert_exporter": "python",
   "pygments_lexer": "ipython2",
   "version": "2.7.12"
  }
 },
 "nbformat": 4,
 "nbformat_minor": 0
}
